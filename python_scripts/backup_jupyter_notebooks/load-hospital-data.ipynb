{
 "cells": [
  {
   "cell_type": "code",
   "execution_count": 17,
   "metadata": {},
   "outputs": [],
   "source": [
    "import urllib.request as request\n",
    "import json\n",
    "import time\n",
    "import boto3"
   ]
  },
  {
   "cell_type": "code",
   "execution_count": 18,
   "metadata": {},
   "outputs": [],
   "source": [
    "#call USA hospital data API and store in a dict\n",
    "with request.urlopen('https://services7.arcgis.com/LXCny1HyhQCUSueu/arcgis/rest/services/Definitive_Healthcare_USA_Hospital_Beds/FeatureServer/0/query?where=STATE_NAME+%3D+%27Colorado%27&outFields=*&outSR=4326&f=json') as response:\n",
    "    source = response.read()\n",
    "    data_dict = json.loads(source)"
   ]
  },
  {
   "cell_type": "code",
   "execution_count": 21,
   "metadata": {},
   "outputs": [],
   "source": [
    "#create a new json file and save contents of API in it\n",
    "timestamp = time.strftime(\"%Y-%m-%d_%I_%M_%p\")\n",
    "#create a dynamic file name for incremental uploads\n",
    "file_name = 'hospital-data-'+timestamp+'.json'\n",
    "#save contents of the API into the file to later upload to S3\n",
    "with open(file_name, 'w') as data_json_file:\n",
    "    json.dump(data_dict, data_json_file)"
   ]
  },
  {
   "cell_type": "code",
   "execution_count": 14,
   "metadata": {},
   "outputs": [],
   "source": [
    "timestamp_file = open(\"timestamp_file_hospital.txt\", 'w')\n",
    "timestamp_file.write(timestamp)\n",
    "timestamp_file.close()"
   ]
  },
  {
   "cell_type": "code",
   "execution_count": 15,
   "metadata": {},
   "outputs": [],
   "source": [
    "#ensure key access key and secret are in the credentials folder or environment variables\n",
    "#see https://boto3.amazonaws.com/v1/documentation/api/latest/guide/credentials.html\n",
    "\n",
    "#save file to terraform-created S3 bucket under raw-zone for further processing\n",
    "s3 = boto3.client('s3')\n",
    "with open(file_name, \"rb\") as f:\n",
    "    s3.upload_fileobj(f, \"capstone-team-uk-data-dump-bucket\", \"raw-zone/\"+file_name)"
   ]
  },
  {
   "cell_type": "code",
   "execution_count": 16,
   "metadata": {},
   "outputs": [],
   "source": [
    "#upload latest timestamp to a file to construct file names for download\n",
    "with open(\"timestamp_file_hospital.txt\", \"rb\") as f:\n",
    "    s3.upload_fileobj(f, \"capstone-team-uk-data-dump-bucket\", \"raw-zone/timestamp_file_hospital.txt\")"
   ]
  }
 ],
 "metadata": {
  "kernelspec": {
   "display_name": "Python 3",
   "language": "python",
   "name": "python3"
  },
  "language_info": {
   "codemirror_mode": {
    "name": "ipython",
    "version": 3
   },
   "file_extension": ".py",
   "mimetype": "text/x-python",
   "name": "python",
   "nbconvert_exporter": "python",
   "pygments_lexer": "ipython3",
   "version": "3.8.3"
  }
 },
 "nbformat": 4,
 "nbformat_minor": 2
}
