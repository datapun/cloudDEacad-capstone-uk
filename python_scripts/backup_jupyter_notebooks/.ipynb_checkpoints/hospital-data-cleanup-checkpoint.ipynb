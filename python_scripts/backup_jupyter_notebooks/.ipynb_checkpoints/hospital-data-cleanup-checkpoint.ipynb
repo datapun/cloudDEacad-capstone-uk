{
 "cells": [
  {
   "cell_type": "code",
   "execution_count": 1,
   "metadata": {},
   "outputs": [],
   "source": [
    "import urllib.request as request\n",
    "import json\n",
    "import boto3\n",
    "import pandas as pd"
   ]
  },
  {
   "cell_type": "code",
   "execution_count": 3,
   "metadata": {},
   "outputs": [
    {
     "ename": "IndentationError",
     "evalue": "unexpected indent (<ipython-input-3-636f2fe421f2>, line 4)",
     "output_type": "error",
     "traceback": [
      "\u001b[1;36m  File \u001b[1;32m\"<ipython-input-3-636f2fe421f2>\"\u001b[1;36m, line \u001b[1;32m4\u001b[0m\n\u001b[1;33m    buckets = bucket_response[\"Buckets\"]\u001b[0m\n\u001b[1;37m    ^\u001b[0m\n\u001b[1;31mIndentationError\u001b[0m\u001b[1;31m:\u001b[0m unexpected indent\n"
     ]
    }
   ],
   "source": [
    "#read the timestamd data to combine into a filename to load \n",
    "s3_read = boto3.resource('s3')\n",
    "bucket_response = s3_read.list_buckets()\n",
    "    buckets = bucket_response[\"Buckets\"]\n",
    "    #then find the bucket containing 'data-stage-bucket'\n",
    "    correct_bucket = []\n",
    "    for i in range(0,len(buckets)):\n",
    "        if 'data-stage-bucket' in buckets[i]['Name']:\n",
    "            correct_bucket.append(buckets[i]['Name'])\n",
    "        else:\n",
    "            continue\n",
    "    bucket_name_stage = correct_bucket[0]\n",
    "bucketname = 'capstone-team-uk-data-dump-bucket'\n",
    "itemname = 'raw-zone/timestamp_file_hospitals.txt'\n",
    "obj = s3_read.Object(bucketname, itemname)\n",
    "body_timestamp = obj.get()['Body'].read()"
   ]
  },
  {
   "cell_type": "code",
   "execution_count": 67,
   "metadata": {},
   "outputs": [],
   "source": [
    "hospitals_filename = 'hospital-data-'+body_timestamp.decode()+'.json'"
   ]
  },
  {
   "cell_type": "code",
   "execution_count": 46,
   "metadata": {
    "scrolled": true
   },
   "outputs": [],
   "source": [
    "#load from s3 raw zone\n",
    "s3_read = boto3.resource('s3')\n",
    "bucketname = 'capstone-team-uk-data-dump-bucket'\n",
    "itemname = 'raw-zone/'+hospitals_filename\n",
    "obj = s3_read.Object(bucketname, itemname)\n",
    "body = obj.get()['Body'].read()"
   ]
  },
  {
   "cell_type": "code",
   "execution_count": 47,
   "metadata": {},
   "outputs": [],
   "source": [
    "data = json.loads(body)"
   ]
  },
  {
   "cell_type": "code",
   "execution_count": 50,
   "metadata": {},
   "outputs": [],
   "source": [
    "json_simple = data['features']"
   ]
  },
  {
   "cell_type": "code",
   "execution_count": 53,
   "metadata": {},
   "outputs": [],
   "source": [
    "new_list_of_dicts = [\n",
    "    x['attributes'] for x in json_simple\n",
    "]"
   ]
  },
  {
   "cell_type": "code",
   "execution_count": 54,
   "metadata": {},
   "outputs": [],
   "source": [
    "data_f = pd.DataFrame(new_list_of_dicts)"
   ]
  },
  {
   "cell_type": "code",
   "execution_count": 55,
   "metadata": {},
   "outputs": [],
   "source": [
    "data_f.index.name = 'id'"
   ]
  },
  {
   "cell_type": "code",
   "execution_count": 57,
   "metadata": {},
   "outputs": [],
   "source": [
    "output_csv = pd.DataFrame.to_csv(data_f)"
   ]
  },
  {
   "cell_type": "code",
   "execution_count": 59,
   "metadata": {},
   "outputs": [],
   "source": [
    "output_csv = data_f.to_csv('hospital-data.csv')"
   ]
  },
  {
   "cell_type": "code",
   "execution_count": 69,
   "metadata": {},
   "outputs": [],
   "source": [
    "timestamp = body_timestamp.decode()"
   ]
  },
  {
   "cell_type": "code",
   "execution_count": 72,
   "metadata": {},
   "outputs": [],
   "source": [
    "s3_upload = boto3.client('s3')\n",
    "with open('hospital-data.csv', \"rb\") as f:\n",
    "    s3_upload.upload_fileobj(f, \"capstone-team-uk-data-dump-bucket\", \"hospital-data/hospital-data\"+timestamp+\".csv\")"
   ]
  }
 ],
 "metadata": {
  "kernelspec": {
   "display_name": "Python 3",
   "language": "python",
   "name": "python3"
  },
  "language_info": {
   "codemirror_mode": {
    "name": "ipython",
    "version": 3
   },
   "file_extension": ".py",
   "mimetype": "text/x-python",
   "name": "python",
   "nbconvert_exporter": "python",
   "pygments_lexer": "ipython3",
   "version": "3.8.3"
  }
 },
 "nbformat": 4,
 "nbformat_minor": 2
}
