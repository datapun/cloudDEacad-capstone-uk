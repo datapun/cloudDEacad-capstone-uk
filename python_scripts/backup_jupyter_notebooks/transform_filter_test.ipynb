{
 "cells": [
  {
   "cell_type": "code",
   "execution_count": 1,
   "metadata": {},
   "outputs": [],
   "source": [
    "import urllib.request as request\n",
    "import json\n",
    "import boto3\n",
    "import pandas as pd"
   ]
  },
  {
   "cell_type": "code",
   "execution_count": 2,
   "metadata": {},
   "outputs": [],
   "source": [
    "s3_stage = boto3.client('s3')\n",
    "#then list all buckets\n",
    "bucket_response = s3_stage.list_buckets()\n",
    "buckets = bucket_response[\"Buckets\"]   "
   ]
  },
  {
   "cell_type": "code",
   "execution_count": 3,
   "metadata": {},
   "outputs": [],
   "source": [
    "#then find the bucket containing 'data-stage-bucket'\n",
    "correct_bucket = []\n",
    "for i in range(0,len(buckets)):\n",
    "    if 'data-dump-bucket' in buckets[i]['Name']:\n",
    "        correct_bucket.append(buckets[i]['Name'])\n",
    "    else:\n",
    "        continue\n",
    "    bucket_name_dump = correct_bucket[0]  "
   ]
  },
  {
   "cell_type": "code",
   "execution_count": 4,
   "metadata": {},
   "outputs": [
    {
     "data": {
      "text/plain": [
       "'capstone-team-uk-demo-7-data-dump-bucket'"
      ]
     },
     "execution_count": 4,
     "metadata": {},
     "output_type": "execute_result"
    }
   ],
   "source": [
    "bucket_name_dump"
   ]
  },
  {
   "cell_type": "code",
   "execution_count": 5,
   "metadata": {},
   "outputs": [],
   "source": [
    "s3_read = boto3.resource('s3')\n",
    "itemname = 'raw-zone/timestamp_file_covid.txt'\n",
    "obj = s3_read.Object(bucket_name_dump, itemname)\n",
    "body_timestamp = obj.get()['Body'].read()\n",
    "timestamp = body_timestamp.decode()"
   ]
  },
  {
   "cell_type": "code",
   "execution_count": 6,
   "metadata": {},
   "outputs": [
    {
     "data": {
      "text/plain": [
       "'2020-08-05_07_25_PM'"
      ]
     },
     "execution_count": 6,
     "metadata": {},
     "output_type": "execute_result"
    }
   ],
   "source": [
    "timestamp"
   ]
  },
  {
   "cell_type": "code",
   "execution_count": 10,
   "metadata": {},
   "outputs": [
    {
     "data": {
      "text/plain": [
       "s3.Object(bucket_name='capstone-team-uk-demo-5-data-dump-bucket', key='raw-zone/timestamp_file_covid.txt')"
      ]
     },
     "execution_count": 10,
     "metadata": {},
     "output_type": "execute_result"
    }
   ],
   "source": [
    "obj"
   ]
  },
  {
   "cell_type": "code",
   "execution_count": 11,
   "metadata": {},
   "outputs": [],
   "source": [
    "covid_filename = 'covid-data-'+timestamp+'.json'\n",
    "itemname = 'raw-zone/'+covid_filename\n",
    "obj = s3_read.Object(bucket_name_dump, itemname)\n",
    "body = obj.get()['Body'].read()"
   ]
  },
  {
   "cell_type": "code",
   "execution_count": 12,
   "metadata": {
    "scrolled": true
   },
   "outputs": [
    {
     "data": {
      "text/plain": [
       "b'{\"objectIdFieldName\": \"OBJECTID\", \"uniqueIdField\": {\"name\": \"OBJECTID\", \"isSystemMaintained\": true}, \"globalIdFieldName\": \"\", \"geometryProperties\": {\"shapeAreaFieldName\": \"Shape__Area\", \"shapeLengthFieldName\": \"Shape__Length\", \"units\": \"esriDecimalDegrees\"}, \"geometryType\": \"esriGeometryPolygon\", \"spatialReference\": {\"wkid\": 4326, \"latestWkid\": 4326}, \"fields\": [{\"name\": \"OBJECTID\", \"type\": \"esriFieldTypeOID\", \"alias\": \"OBJECTID\", \"sqlType\": \"sqlTypeOther\", \"domain\": null, \"defaultValue\": null}, {\"name\": \"FULL_\", \"type\": \"esriFieldTypeString\", \"alias\": \"FULL\", \"sqlType\": \"sqlTypeOther\", \"length\": 50, \"domain\": null, \"defaultValue\": null}, {\"name\": \"GEOID\", \"type\": \"esriFieldTypeString\", \"alias\": \"GEOID\", \"sqlType\": \"sqlTypeOther\", \"length\": 5, \"domain\": null, \"defaultValue\": null}, {\"name\": \"LABEL\", \"type\": \"esriFieldTypeString\", \"alias\": \"LABEL\", \"sqlType\": \"sqlTypeOther\", \"length\": 35, \"domain\": null, \"defaultValue\": null}, {\"name\": \"STAETFP\", \"type\": \"esriFieldTypeString\", \"alias\": \"STATE FIPS Code\", \"sqlType\": \"sqlTypeOther\", \"length\": 2, \"domain\": null, \"defaultValue\": null}, {\"name\": \"COUNTY\", \"type\": \"esriFieldTypeString\", \"alias\": \"COUNTY\", \"sqlType\": \"sqlTypeOther\", \"length\": 35, \"domain\": null, \"defaultValue\": null}, {\"name\": \"COUNTYFP\", \"type\": \"esriFieldTypeString\", \"alias\": \"County FIPS Code\", \"sqlType\": \"sqlTypeOther\", \"length\": 3, \"domain\": null, \"defaultValue\": null}, {\"name\": \"County_Pos_Cases\", \"type\": \"esriFieldTypeDouble\", \"alias\": \"County Number of Positive Cases\", \"sqlType\": \"sqlTypeOther\", \"domain\": null, \"defaultValue\": null}, {\"name\": \"County_Population\", \"type\": \"esriFieldTypeDouble\", \"alias\": \"County Population\", \"sqlType\": \"sqlTypeOther\", \"domain\": null, \"defaultValue\": null}, {\"name\": \"County_Rate_Per_100_000\", \"type\": \"esriFieldTypeDouble\", \"alias\": \"County Rate per 100,000\", \"sqlType\": \"sqlTypeOther\", \"domain\": null, \"defaultValue\": null}, {\"name\": \"County_Pos_Cases_Yesterday\", \"type\": \"esriFieldTypeInteger\", \"alias\": \"County Number of Positive Cases Yesterday\", \"sqlType\": \"sqlTypeOther\", \"domain\": null, \"defaultValue\": null}, {\"name\": \"County_Pos_Cases_Change\", \"type\": \"esriFieldTypeInteger\", \"alias\": \"County Daily Change in Number of Positive Cases\", \"sqlType\": \"sqlTypeOther\", \"domain\": null, \"defaultValue\": null}, {\"name\": \"County_Deaths\", \"type\": \"esriFieldTypeInteger\", \"alias\": \"County Number of Deaths Among Cases\", \"sqlType\": \"sqlTypeOther\", \"domain\": null, \"defaultValue\": null}, {\"name\": \"County_Deaths_Yesterday\", \"type\": \"esriFieldTypeInteger\", \"alias\": \"County Number of Deaths Yesterday\", \"sqlType\": \"sqlTypeOther\", \"domain\": null, \"defaultValue\": null}, {\"name\": \"County_Deaths_Change\", \"type\": \"esriFieldTypeInteger\", \"alias\": \"County Daily Change in Number of Deaths\", \"sqlType\": \"sqlTypeOther\", \"domain\": null, \"defaultValue\": null}, {\"name\": \"State_Pos_Cases\", \"type\": \"esriFieldTypeDouble\", \"alias\": \"State Number Positive Cases Total\", \"sqlType\": \"sqlTypeOther\", \"domain\": null, \"defaultValue\": null}, {\"name\": \"State_Population\", \"type\": \"esriFieldTypeDouble\", \"alias\": \"State Population\", \"sqlType\": \"sqlTypeOther\", \"domain\": null, \"defaultValue\": null}, {\"name\": \"State_Rate_Per_100000\", \"type\": \"esriFieldTypeDouble\", \"alias\": \"State Rate Per 100000\", \"sqlType\": \"sqlTypeOther\", \"domain\": null, \"defaultValue\": null}, {\"name\": \"State_Deaths\", \"type\": \"esriFieldTypeInteger\", \"alias\": \"State Number of Deaths Among Cases\", \"sqlType\": \"sqlTypeOther\", \"domain\": null, \"defaultValue\": null}, {\"name\": \"State_CDC_Deaths\", \"type\": \"esriFieldTypeInteger\", \"alias\": \"State Number of CDC Deaths Due to COVID19\", \"sqlType\": \"sqlTypeOther\", \"domain\": null, \"defaultValue\": null}, {\"name\": \"State_Number_Hospitalizations\", \"type\": \"esriFieldTypeInteger\", \"alias\": \"State Number of Hospitalizations\", \"sqlType\": \"sqlTypeOther\", \"domain\": null, \"defaultValue\": null}, {\"name\": \"State_Number_Tested\", \"type\": \"esriFieldTypeInteger\", \"alias\": \"State Number of Individuals Tested\", \"sqlType\": \"sqlTypeOther\", \"domain\": null, \"defaultValue\": null}, {\"name\": \"State_Test_Encounters\", \"type\": \"esriFieldTypeInteger\", \"alias\": \"State Number of Test Encounters\", \"sqlType\": \"sqlTypeOther\", \"domain\": null, \"defaultValue\": null}, {\"name\": \"State_Number_of_Counties_Pos\", \"type\": \"esriFieldTypeInteger\", \"alias\": \"State Number of Counties with Positive Cases\", \"sqlType\": \"sqlTypeOther\", \"domain\": null, \"defaultValue\": null}, {\"name\": \"State_Number_of_Outbreaks\", \"type\": \"esriFieldTypeInteger\", \"alias\": \"State Number of Outbreaks\", \"sqlType\": \"sqlTypeOther\", \"domain\": null, \"defaultValue\": null}, {\"name\": \"Data_Source\", \"type\": \"esriFieldTypeString\", \"alias\": \"Data Source\", \"sqlType\": \"sqlTypeOther\", \"length\": 255, \"domain\": null, \"defaultValue\": null}, {\"name\": \"Date_Data_Last_Updated\", \"type\": \"esriFieldTypeString\", \"alias\": \"Date\", \"sqlType\": \"sqlTypeOther\", \"length\": 35, \"domain\": null, \"defaultValue\": null}, {\"name\": \"Shape__Area\", \"type\": \"esriFieldTypeDouble\", \"alias\": \"Shape__Area\", \"sqlType\": \"sqlTypeDouble\", \"domain\": null, \"defaultValue\": null}, {\"name\": \"Shape__Length\", \"type\": \"esriFieldTypeDouble\", \"alias\": \"Shape__Length\", \"sqlType\": \"sqlTypeDouble\", \"domain\": null, \"defaultValue\": null}], \"features\": [{\"attributes\": {\"OBJECTID\": 1, \"FULL_\": \"Saguache County\", \"GEOID\": \"08109\", \"LABEL\": \"Saguache\", \"STAETFP\": \"08\", \"COUNTY\": \"SAGUACHE\", \"COUNTYFP\": \"109\", \"County_Pos_Cases\": 107, \"County_Population\": 6837, \"County_Rate_Per_100_000\": 1565.01, \"County_Pos_Cases_Yesterday\": 107, \"County_Pos_Cases_Change\": 0, \"County_Deaths\": 2, \"County_Deaths_Yesterday\": 2, \"County_Deaths_Change\": 0, \"State_Pos_Cases\": 48394, \"State_Population\": 5694287, \"State_Rate_Per_100000\": 849.87, \"State_Deaths\": 1849, \"State_CDC_Deaths\": 1710, \"State_Number_Hospitalizations\": 6516, \"State_Number_Tested\": 552205, \"State_Test_Encounters\": 727026, \"State_Number_of_Counties_Pos\": 63, \"State_Number_of_Outbreaks\": 488, \"Data_Source\": \"Colorado Department of Public Health and Environment\", \"Date_Data_Last_Updated\": \"Data through August 3, 2020\", \"Shape__Area\": 0.84314903059385, \"Shape__Length\": 4.39184364534676}}, {\"attributes\": {\"OBJECTID\": 2, \"FULL_\": \"Sedgwick County\", \"GEOID\": \"08115\", \"LABEL\": \"Sedgwick\", \"STAETFP\": \"08\", \"COUNTY\": \"SEDGWICK\", \"COUNTYFP\": \"115\", \"County_Pos_Cases\": 11, \"County_Population\": 2275, \"County_Rate_Per_100_000\": 483.52, \"County_Pos_Cases_Yesterday\": 11, \"County_Pos_Cases_Change\": 0, \"County_Deaths\": 1, \"County_Deaths_Yesterday\": 1, \"County_Deaths_Change\": 0, \"State_Pos_Cases\": 48394, \"State_Population\": 5694287, \"State_Rate_Per_100000\": 849.87, \"State_Deaths\": 1849, \"State_CDC_Deaths\": 1710, \"State_Number_Hospitalizations\": 6516, \"State_Number_Tested\": 552205, \"State_Test_Encounters\": 727026, \"State_Number_of_Counties_Pos\": 63, \"State_Number_of_Outbreaks\": 488, \"Data_Source\": \"Colorado Department of Public Health and Environment\", \"Date_Data_Last_Updated\": \"Data through August 3, 2020\", \"Shape__Area\": 0.152011070952994, \"Shape__Length\": 1.7075458304623}}, {\"attributes\": {\"OBJECTID\": 3, \"FULL_\": \"Cheyenne County\", \"GEOID\": \"08017\", \"LABEL\": \"Cheyenne\", \"STAETFP\": \"08\", \"COUNTY\": \"CHEYENNE\", \"COUNTYFP\": \"017\", \"County_Pos_Cases\": 8, \"County_Population\": 1862, \"County_Rate_Per_100_000\": 429.65, \"County_Pos_Cases_Yesterday\": 8, \"County_Pos_Cases_Change\": 0, \"County_Deaths\": null, \"County_Deaths_Yesterday\": null, \"County_Deaths_Change\": null, \"State_Pos_Cases\": 48394, \"State_Population\": 5694287, \"State_Rate_Per_100000\": 849.87, \"State_Deaths\": 1849, \"State_CDC_Deaths\": 1710, \"State_Number_Hospitalizations\": 6516, \"State_Number_Tested\": 552205, \"State_Test_Encounters\": 727026, \"State_Number_of_Counties_Pos\": 63, \"State_Number_of_Outbreaks\": 488, \"Data_Source\": \"Colorado Department of Public Health and Environment\", \"Date_Data_Last_Updated\": \"Data through August 3, 2020\", \"Shape__Area\": 0.478627830943196, \"Shape__Length\": 3.11127071445578}}, {\"attributes\": {\"OBJECTID\": 4, \"FULL_\": \"Custer County\", \"GEOID\": \"08027\", \"LABEL\": \"Custer\", \"STAETFP\": \"08\", \"COUNTY\": \"CUSTER\", \"COUNTYFP\": \"027\", \"County_Pos_Cases\": 11, \"County_Population\": 4928, \"County_Rate_Per_100_000\": 223.21, \"County_Pos_Cases_Yesterday\": 10, \"County_Pos_Cases_Change\": 1, \"County_Deaths\": null, \"County_Deaths_Yesterday\": null, \"County_Deaths_Change\": null, \"State_Pos_Cases\": 48394, \"State_Population\": 5694287, \"State_Rate_Per_100000\": 849.87, \"State_Deaths\": 1849, \"State_CDC_Deaths\": 1710, \"State_Number_Hospitalizations\": 6516, \"State_Number_Tested\": 552205, \"State_Test_Encounters\": 727026, \"State_Number_of_Counties_Pos\": 63, \"State_Number_of_Outbreaks\": 488, \"Data_Source\": \"Colorado Department of Public Health and Environment\", \"Date_Data_Last_Updated\": \"Data through August 3, 2020\", \"Shape__Area\": 0.196859248573446, \"Shape__Length\": 2.36450252969444}}, {\"attributes\": {\"OBJECTID\": 5, \"FULL_\": \"La Plata County\", \"GEOID\": \"08067\", \"LABEL\": \"La Plata\", \"STAETFP\": \"08\", \"COUNTY\": \"LA PLATA\", \"COUNTYFP\": \"067\", \"County_Pos_Cases\": 201, \"County_Population\": 56403, \"County_Rate_Per_100_000\": 356.36, \"County_Pos_Cases_Yesterday\": 198, \"County_Pos_Cases_Change\": 3, \"County_Deaths\": 2, \"County_Deaths_Yesterday\": 2, \"County_Deaths_Change\": 0, \"State_Pos_Cases\": 48394, \"State_Population\": 5694287, \"State_Rate_Per_100000\": 849.87, \"State_Deaths\": 1849, \"State_CDC_Deaths\": 1710, \"State_Number_Hospitalizations\": 6516, \"State_Number_Tested\": 552205, \"State_Test_Encounters\": 727026, \"State_Number_of_Counties_Pos\": 63, \"State_Number_of_Outbreaks\": 488, \"Data_Source\": \"Colorado Department of Public Health and Environment\", \"Date_Data_Last_Updated\": \"Data through August 3, 2020\", \"Shape__Area\": 0.447277846552652, \"Shape__Length\": 3.02281991599123}}, {\"attributes\": {\"OBJECTID\": 6, \"FULL_\": \"San Juan County\", \"GEOID\": \"08111\", \"LABEL\": \"San Juan\", \"STAETFP\": \"08\", \"COUNTY\": \"SAN JUAN\", \"COUNTYFP\": \"111\", \"County_Pos_Cases\": 2, \"County_Population\": 762, \"County_Rate_Per_100_000\": -1, \"County_Pos_Cases_Yesterday\": 2, \"County_Pos_Cases_Change\": 0, \"County_Deaths\": null, \"County_Deaths_Yesterday\": null, \"County_Deaths_Change\": null, \"State_Pos_Cases\": 48394, \"State_Population\": 5694287, \"State_Rate_Per_100000\": 849.87, \"State_Deaths\": 1849, \"State_CDC_Deaths\": 1710, \"State_Number_Hospitalizations\": 6516, \"State_Number_Tested\": 552205, \"State_Test_Encounters\": 727026, \"State_Number_of_Counties_Pos\": 63, \"State_Number_of_Outbreaks\": 488, \"Data_Source\": \"Colorado Department of Public Health and Environment\", \"Date_Data_Last_Updated\": \"Data through August 3, 2020\", \"Shape__Area\": 0.102833675325428, \"Shape__Length\": 1.71664098503411}}, {\"attributes\": {\"OBJECTID\": 7, \"FULL_\": \"Pitkin County\", \"GEOID\": \"08097\", \"LABEL\": \"Pitkin\", \"STAETFP\": \"08\", \"COUNTY\": \"PITKIN\", \"COUNTYFP\": \"097\", \"County_Pos_Cases\": 177, \"County_Population\": 17879, \"County_Rate_Per_100_000\": 989.99, \"County_Pos_Cases_Yesterday\": 172, \"County_Pos_Cases_Change\": 5, \"County_Deaths\": 2, \"County_Deaths_Yesterday\": 2, \"County_Deaths_Change\": 0, \"State_Pos_Cases\": 48394, \"State_Population\": 5694287, \"State_Rate_Per_100000\": 849.87, \"State_Deaths\": 1849, \"State_CDC_Deaths\": 1710, \"State_Number_Hospitalizations\": 6516, \"State_Number_Tested\": 552205, \"State_Test_Encounters\": 727026, \"State_Number_of_Counties_Pos\": 63, \"State_Number_of_Outbreaks\": 488, \"Data_Source\": \"Colorado Department of Public Health and Environment\", \"Date_Data_Last_Updated\": \"Data through August 3, 2020\", \"Shape__Area\": 0.262895469540581, \"Shape__Length\": 2.99758337931076}}, {\"attributes\": {\"OBJECTID\": 8, \"FULL_\": \"Park County\", \"GEOID\": \"08093\", \"LABEL\": \"Park\", \"STAETFP\": \"08\", \"COUNTY\": \"PARK\", \"COUNTYFP\": \"093\", \"County_Pos_Cases\": 42, \"County_Population\": 18557, \"County_Rate_Per_100_000\": 226.33, \"County_Pos_Cases_Yesterday\": 42, \"County_Pos_Cases_Change\": 0, \"County_Deaths\": 1, \"County_Deaths_Yesterday\": 1, \"County_Deaths_Change\": 0, \"State_Pos_Cases\": 48394, \"State_Population\": 5694287, \"State_Rate_Per_100000\": 849.87, \"State_Deaths\": 1849, \"State_CDC_Deaths\": 1710, \"State_Number_Hospitalizations\": 6516, \"State_Number_Tested\": 552205, \"State_Test_Encounters\": 727026, \"State_Number_of_Counties_Pos\": 63, \"State_Number_of_Outbreaks\": 488, \"Data_Source\": \"Colorado Department of Public Health and Environment\", \"Date_Data_Last_Updated\": \"Data through August 3, 2020\", \"Shape__Area\": 0.596376486070085, \"Shape__Length\": 3.79219717353281}}, {\"attributes\": {\"OBJECTID\": 9, \"FULL_\": \"Alamosa County\", \"GEOID\": \"08003\", \"LABEL\": \"Alamosa\", \"STAETFP\": \"08\", \"COUNTY\": \"ALAMOSA\", \"COUNTYFP\": \"003\", \"County_Pos_Cases\": 224, \"County_Population\": 16184, \"County_Rate_Per_100_000\": 1384.08, \"County_Pos_Cases_Yesterday\": 224, \"County_Pos_Cases_Change\": 0, \"County_Deaths\": 9, \"County_Deaths_Yesterday\": 9, \"County_Deaths_Change\": 0, \"State_Pos_Cases\": 48394, \"State_Population\": 5694287, \"State_Rate_Per_100000\": 849.87, \"State_Deaths\": 1849, \"State_CDC_Deaths\": 1710, \"State_Number_Hospitalizations\": 6516, \"State_Number_Tested\": 552205, \"State_Test_Encounters\": 727026, \"State_Number_of_Counties_Pos\": 63, \"State_Number_of_Outbreaks\": 488, \"Data_Source\": \"Colorado Department of Public Health and Environment\", \"Date_Data_Last_Updated\": \"Data through August 3, 2020\", \"Shape__Area\": 0.19106400063788, \"Shape__Length\": 1.83562564586585}}, {\"attributes\": {\"OBJECTID\": 10, \"FULL_\": \"Prowers County\", \"GEOID\": \"08099\", \"LABEL\": \"Prowers\", \"STAETFP\": \"08\", \"COUNTY\": \"PROWERS\", \"COUNTYFP\": \"099\", \"County_Pos_Cases\": 50, \"County_Population\": 12078, \"County_Rate_Per_100_000\": 413.98, \"County_Pos_Cases_Yesterday\": 48, \"County_Pos_Cases_Change\": 2, \"County_Deaths\": null, \"County_Deaths_Yesterday\": null, \"County_Deaths_Change\": null, \"State_Pos_Cases\": 48394, \"State_Population\": 5694287, \"State_Rate_Per_100000\": 849.87, \"State_Deaths\": 1849, \"State_CDC_Deaths\": 1710, \"State_Number_Hospitalizations\": 6516, \"State_Number_Tested\": 552205, \"State_Test_Encounters\": 727026, \"State_Number_of_Counties_Pos\": 63, \"State_Number_of_Outbreaks\": 488, \"Data_Source\": \"Colorado Department of Public Health and Environment\", \"Date_Data_Last_Updated\": \"Data through August 3, 2020\", \"Shape__Area\": 0.436578121041293, \"Shape__Length\": 2.65950781753648}}, {\"attributes\": {\"OBJECTID\": 11, \"FULL_\": \"Moffat County\", \"GEOID\": \"08081\", \"LABEL\": \"Moffat\", \"STAETFP\": \"08\", \"COUNTY\": \"MOFFAT\", \"COUNTYFP\": \"081\", \"County_Pos_Cases\": 26, \"County_Population\": 13181, \"County_Rate_Per_100_000\": 197.25, \"County_Pos_Cases_Yesterday\": 25, \"County_Pos_Cases_Change\": 1, \"County_Deaths\": 1, \"County_Deaths_Yesterday\": 1, \"County_Deaths_Change\": 0, \"State_Pos_Cases\": 48394, \"State_Population\": 5694287, \"State_Rate_Per_100000\": 849.87, \"State_Deaths\": 1849, \"State_CDC_Deaths\": 1710, \"State_Number_Hospitalizations\": 6516, \"State_Number_Tested\": 552205, \"State_Test_Encounters\": 727026, \"State_Number_of_Counties_Pos\": 63, \"State_Number_of_Outbreaks\": 488, \"Data_Source\": \"Colorado Department of Public Health and Environment\", \"Date_Data_Last_Updated\": \"Data through August 3, 2020\", \"Shape__Area\": 1.30950090392707, \"Shape__Length\": 5.03264724477475}}, {\"attributes\": {\"OBJECTID\": 12, \"FULL_\": \"Jefferson County\", \"GEOID\": \"08059\", \"LABEL\": \"Jefferson\", \"STAETFP\": \"08\", \"COUNTY\": \"JEFFERSON\", \"COUNTYFP\": \"059\", \"County_Pos_Cases\": 3994, \"County_Population\": 579491, \"County_Rate_Per_100_000\": 689.23, \"County_Pos_Cases_Yesterday\": 3971, \"County_Pos_Cases_Change\": 23, \"County_Deaths\": 227, \"County_Deaths_Yesterday\": 227, \"County_Deaths_Change\": 0, \"State_Pos_Cases\": 48394, \"State_Population\": 5694287, \"State_Rate_Per_100000\": 849.87, \"State_Deaths\": 1849, \"State_CDC_Deaths\": 1710, \"State_Number_Hospitalizations\": 6516, \"State_Number_Tested\": 552205, \"State_Test_Encounters\": 727026, \"State_Number_of_Counties_Pos\": 63, \"State_Number_of_Outbreaks\": 488, \"Data_Source\": \"Colorado Department of Public Health and Environment\", \"Date_Data_Last_Updated\": \"Data through August 3, 2020\", \"Shape__Area\": 0.210187679847877, \"Shape__Length\": 2.86344185299337}}, {\"attributes\": {\"OBJECTID\": 13, \"FULL_\": \"Summit County\", \"GEOID\": \"08117\", \"LABEL\": \"Summit\", \"STAETFP\": \"08\", \"COUNTY\": \"SUMMIT\", \"COUNTYFP\": \"117\", \"County_Pos_Cases\": 324, \"County_Population\": 30973, \"County_Rate_Per_100_000\": 1046.07, \"County_Pos_Cases_Yesterday\": 323, \"County_Pos_Cases_Change\": 1, \"County_Deaths\": 4, \"County_Deaths_Yesterday\": 4, \"County_Deaths_Change\": 0, \"State_Pos_Cases\": 48394, \"State_Population\": 5694287, \"State_Rate_Per_100000\": 849.87, \"State_Deaths\": 1849, \"State_CDC_Deaths\": 1710, \"State_Number_Hospitalizations\": 6516, \"State_Number_Tested\": 552205, \"State_Test_Encounters\": 727026, \"State_Number_of_Counties_Pos\": 63, \"State_Number_of_Outbreaks\": 488, \"Data_Source\": \"Colorado Department of Public Health and Environment\", \"Date_Data_Last_Updated\": \"Data through August 3, 2020\", \"Shape__Area\": 0.168272135535972, \"Shape__Length\": 2.59953699733241}}, {\"attributes\": {\"OBJECTID\": 14, \"FULL_\": \"Pueblo County\", \"GEOID\": \"08101\", \"LABEL\": \"Pueblo\", \"STAETFP\": \"08\", \"COUNTY\": \"PUEBLO\", \"COUNTYFP\": \"101\", \"County_Pos_Cases\": 617, \"County_Population\": 167116, \"County_Rate_Per_100_000\": 369.2, \"County_Pos_Cases_Yesterday\": 615, \"County_Pos_Cases_Change\": 2, \"County_Deaths\": 34, \"County_Deaths_Yesterday\": 34, \"County_Deaths_Change\": 0, \"State_Pos_Cases\": 48394, \"State_Population\": 5694287, \"State_Rate_Per_100000\": 849.87, \"State_Deaths\": 1849, \"State_CDC_Deaths\": 1710, \"State_Number_Hospitalizations\": 6516, \"State_Number_Tested\": 552205, \"State_Test_Encounters\": 727026, \"State_Number_of_Counties_Pos\": 63, \"State_Number_of_Outbreaks\": 488, \"Data_Source\": \"Colorado Department of Public Health and Environment\", \"Date_Data_Last_Updated\": \"Data through August 3, 2020\", \"Shape__Area\": 0.638492791357976, \"Shape__Length\": 3.43119645764386}}, {\"attributes\": {\"OBJECTID\": 15, \"FULL_\": \"Boulder County\", \"GEOID\": \"08013\", \"LABEL\": \"Boulder\", \"STAETFP\": \"08\", \"COUNTY\": \"BOULDER\", \"COUNTYFP\": \"013\", \"County_Pos_Cases\": 1946, \"County_Population\": 325476, \"County_Rate_Per_100_000\": 597.89, \"County_Pos_Cases_Yesterday\": 1927, \"County_Pos_Cases_Change\": 19, \"County_Deaths\": 75, \"County_Deaths_Yesterday\": 75, \"County_Deaths_Change\": 0, \"State_Pos_Cases\": 48394, \"State_Population\": 5694287, \"State_Rate_Per_100000\": 849.87, \"State_Deaths\": 1849, \"State_CDC_Deaths\": 1710, \"State_Number_Hospitalizations\": 6516, \"State_Number_Tested\": 552205, \"State_Test_Encounters\": 727026, \"State_Number_of_Counties_Pos\": 63, \"State_Number_of_Outbreaks\": 488, \"Data_Source\": \"Colorado Department of Public Health and Environment\", \"Date_Data_Last_Updated\": \"Data through August 3, 2020\", \"Shape__Area\": 0.202534731038213, \"Shape__Length\": 2.38337519766668}}, {\"attributes\": {\"OBJECTID\": 16, \"FULL_\": \"Denver County\", \"GEOID\": \"08031\", \"LABEL\": \"Denver\", \"STAETFP\": \"08\", \"COUNTY\": \"DENVER\", \"COUNTYFP\": \"031\", \"County_Pos_Cases\": 9876, \"County_Population\": 717797, \"County_Rate_Per_100_000\": 1375.88, \"County_Pos_Cases_Yesterday\": 9813, \"County_Pos_Cases_Change\": 63, \"County_Deaths\": 412, \"County_Deaths_Yesterday\": 412, \"County_Deaths_Change\": 0, \"State_Pos_Cases\": 48394, \"State_Population\": 5694287, \"State_Rate_Per_100000\": 849.87, \"State_Deaths\": 1849, \"State_CDC_Deaths\": 1710, \"State_Number_Hospitalizations\": 6516, \"State_Number_Tested\": 552205, \"State_Test_Encounters\": 727026, \"State_Number_of_Counties_Pos\": 63, \"State_Number_of_Outbreaks\": 488, \"Data_Source\": \"Colorado Department of Public Health and Environment\", \"Date_Data_Last_Updated\": \"Data through August 3, 2020\", \"Shape__Area\": 0.0421858562244779, \"Shape__Length\": 2.74534829005677}}, {\"attributes\": {\"OBJECTID\": 17, \"FULL_\": \"Montrose County\", \"GEOID\": \"08085\", \"LABEL\": \"Montrose\", \"STAETFP\": \"08\", \"COUNTY\": \"MONTROSE\", \"COUNTYFP\": \"085\", \"County_Pos_Cases\": 287, \"County_Population\": 42260, \"County_Rate_Per_100_000\": 679.13, \"County_Pos_Cases_Yesterday\": 283, \"County_Pos_Cases_Change\": 4, \"County_Deaths\": 13, \"County_Deaths_Yesterday\": 13, \"County_Deaths_Change\": 0, \"State_Pos_Cases\": 48394, \"State_Population\": 5694287, \"State_Rate_Per_100000\": 849.87, \"State_Deaths\": 1849, \"State_CDC_Deaths\": 1710, \"State_Number_Hospitalizations\": 6516, \"State_Number_Tested\": 552205, \"State_Test_Encounters\": 727026, \"State_Number_of_Counties_Pos\": 63, \"State_Number_of_Outbreaks\": 488, \"Data_Source\": \"Colorado Department of Public Health and Environment\", \"Date_Data_Last_Updated\": \"Data through August 3, 2020\", \"Shape__Area\": 0.599092173290956, \"Shape__Length\": 4.59010271530844}}, {\"attributes\": {\"OBJECTID\": 18, \"FULL_\": \"Eagle County\", \"GEOID\": \"08037\", \"LABEL\": \"Eagle\", \"STAETFP\": \"08\", \"COUNTY\": \"EAGLE\", \"COUNTYFP\": \"037\", \"County_Pos_Cases\": 1092, \"County_Population\": 54863, \"County_Rate_Per_100_000\": 1990.41, \"County_Pos_Cases_Yesterday\": 1069, \"County_Pos_Cases_Change\": 23, \"County_Deaths\": 9, \"County_Deaths_Yesterday\": 9, \"County_Deaths_Change\": 0, \"State_Pos_Cases\": 48394, \"State_Population\": 5694287, \"State_Rate_Per_100000\": 849.87, \"State_Deaths\": 1849, \"State_CDC_Deaths\": 1710, \"State_Number_Hospitalizations\": 6516, \"State_Number_Tested\": 552205, \"State_Test_Encounters\": 727026, \"State_Number_of_Counties_Pos\": 63, \"State_Number_of_Outbreaks\": 488, \"Data_Source\": \"Colorado Department of Public Health and Environment\", \"Date_Data_Last_Updated\": \"Data through August 3, 2020\", \"Shape__Area\": 0.459671486366005, \"Shape__Length\": 3.15805055528872}}, {\"attributes\": {\"OBJECTID\": 19, \"FULL_\": \"San Miguel County\", \"GEOID\": \"08113\", \"LABEL\": \"San Miguel\", \"STAETFP\": \"08\", \"COUNTY\": \"SAN MIGUEL\", \"COUNTYFP\": \"113\", \"County_Pos_Cases\": 80, \"County_Population\": 8177, \"County_Rate_Per_100_000\": 978.35, \"County_Pos_Cases_Yesterday\": 76, \"County_Pos_Cases_Change\": 4, \"County_Deaths\": null, \"County_Deaths_Yesterday\": null, \"County_Deaths_Change\": null, \"State_Pos_Cases\": 48394, \"State_Population\": 5694287, \"State_Rate_Per_100000\": 849.87, \"State_Deaths\": 1849, \"State_CDC_Deaths\": 1710, \"State_Number_Hospitalizations\": 6516, \"State_Number_Tested\": 552205, \"State_Test_Encounters\": 727026, \"State_Number_of_Counties_Pos\": 63, \"State_Number_of_Outbreaks\": 488, \"Data_Source\": \"Colorado Department of Public Health and Environment\", \"Date_Data_Last_Updated\": \"Data through August 3, 2020\", \"Shape__Area\": 0.34238906379619, \"Shape__Length\": 3.44955895760726}}, {\"attributes\": {\"OBJECTID\": 20, \"FULL_\": \"Costilla County\", \"GEOID\": \"08023\", \"LABEL\": \"Costilla\", \"STAETFP\": \"08\", \"COUNTY\": \"COSTILLA\", \"COUNTYFP\": \"023\", \"County_Pos_Cases\": 22, \"County_Population\": 3809, \"County_Rate_Per_100_000\": 577.58, \"County_Pos_Cases_Yesterday\": 22, \"County_Pos_Cases_Change\": 0, \"County_Deaths\": null, \"County_Deaths_Yesterday\": null, \"County_Deaths_Change\": null, \"State_Pos_Cases\": 48394, \"State_Population\": 5694287, \"State_Rate_Per_100000\": 849.87, \"State_Deaths\": 1849, \"State_CDC_Deaths\": 1710, \"State_Number_Hospitalizations\": 6516, \"State_Number_Tested\": 552205, \"State_Test_Encounters\": 727026, \"State_Number_of_Counties_Pos\": 63, \"State_Number_of_Outbreaks\": 488, \"Data_Source\": \"Colorado Department of Public Health and Environment\", \"Date_Data_Last_Updated\": \"Data through August 3, 2020\", \"Shape__Area\": 0.323925261744535, \"Shape__Length\": 2.63276788664489}}, {\"attributes\": {\"OBJECTID\": 21, \"FULL_\": \"Broomfield County\", \"GEOID\": \"08014\", \"LABEL\": \"Broomfield\", \"STAETFP\": \"08\", \"COUNTY\": \"BROOMFIELD\", \"COUNTYFP\": \"014\", \"County_Pos_Cases\": 421, \"County_Population\": 69453, \"County_Rate_Per_100_000\": 606.17, \"County_Pos_Cases_Yesterday\": 417, \"County_Pos_Cases_Change\": 4, \"County_Deaths\": 32, \"County_Deaths_Yesterday\": 32, \"County_Deaths_Change\": 0, \"State_Pos_Cases\": 48394, \"State_Population\": 5694287, \"State_Rate_Per_100000\": 849.87, \"State_Deaths\": 1849, \"State_CDC_Deaths\": 1710, \"State_Number_Hospitalizations\": 6516, \"State_Number_Tested\": 552205, \"State_Test_Encounters\": 727026, \"State_Number_of_Counties_Pos\": 63, \"State_Number_of_Outbreaks\": 488, \"Data_Source\": \"Colorado Department of Public Health and Environment\", \"Date_Data_Last_Updated\": \"Data through August 3, 2020\", \"Shape__Area\": 0.00915797640027449, \"Shape__Length\": 1.17463684380326}}, {\"attributes\": {\"OBJECTID\": 22, \"FULL_\": \"Chaffee County\", \"GEOID\": \"08015\", \"LABEL\": \"Chaffee\", \"STAETFP\": \"08\", \"COUNTY\": \"CHAFFEE\", \"COUNTYFP\": \"015\", \"County_Pos_Cases\": 292, \"County_Population\": 20028, \"County_Rate_Per_100_000\": 1457.96, \"County_Pos_Cases_Yesterday\": 287, \"County_Pos_Cases_Change\": 5, \"County_Deaths\": 19, \"County_Deaths_Yesterday\": 19, \"County_Deaths_Change\": 0, \"State_Pos_Cases\": 48394, \"State_Population\": 5694287, \"State_Rate_Per_100000\": 849.87, \"State_Deaths\": 1849, \"State_CDC_Deaths\": 1710, \"State_Number_Hospitalizations\": 6516, \"State_Number_Tested\": 552205, \"State_Test_Encounters\": 727026, \"State_Number_of_Counties_Pos\": 63, \"State_Number_of_Outbreaks\": 488, \"Data_Source\": \"Colorado Department of Public Health and Environment\", \"Date_Data_Last_Updated\": \"Data through August 3, 2020\", \"Shape__Area\": 0.272389218158423, \"Shape__Length\": 3.12582249110702}}, {\"attributes\": {\"OBJECTID\": 23, \"FULL_\": \"Crowley County\", \"GEOID\": \"08025\", \"LABEL\": \"Crowley\", \"STAETFP\": \"08\", \"COUNTY\": \"CROWLEY\", \"COUNTYFP\": \"025\", \"County_Pos_Cases\": 72, \"County_Population\": 5857, \"County_Rate_Per_100_000\": 1229.3, \"County_Pos_Cases_Yesterday\": 72, \"County_Pos_Cases_Change\": 0, \"County_Deaths\": 1, \"County_Deaths_Yesterday\": 1, \"County_Deaths_Change\": 0, \"State_Pos_Cases\": 48394, \"State_Population\": 5694287, \"State_Rate_Per_100000\": 849.87, \"State_Deaths\": 1849, \"State_CDC_Deaths\": 1710, \"State_Number_Hospitalizations\": 6516, \"State_Number_Tested\": 552205, \"State_Test_Encounters\": 727026, \"State_Number_of_Counties_Pos\": 63, \"State_Number_of_Outbreaks\": 488, \"Data_Source\": \"Colorado Department of Public Health and Environment\", \"Date_Data_Last_Updated\": \"Data through August 3, 2020\", \"Shape__Area\": 0.213559245320994, \"Shape__Length\": 1.95538842532836}}, {\"attributes\": {\"OBJECTID\": 24, \"FULL_\": \"Fremont County\", \"GEOID\": \"08043\", \"LABEL\": \"Fremont\", \"STAETFP\": \"08\", \"COUNTY\": \"FREMONT\", \"COUNTYFP\": \"043\", \"County_Pos_Cases\": 113, \"County_Population\": 47912, \"County_Rate_Per_100_000\": 235.85, \"County_Pos_Cases_Yesterday\": 112, \"County_Pos_Cases_Change\": 1, \"County_Deaths\": null, \"County_Deaths_Yesterday\": null, \"County_Deaths_Change\": null, \"State_Pos_Cases\": 48394, \"State_Population\": 5694287, \"State_Rate_Per_100000\": 849.87, \"State_Deaths\": 1849, \"State_CDC_Deaths\": 1710, \"State_Number_Hospitalizations\": 6516, \"State_Number_Tested\": 552205, \"State_Test_Encounters\": 727026, \"State_Number_of_Counties_Pos\": 63, \"State_Number_of_Outbreaks\": 488, \"Data_Source\": \"Colorado Department of Public Health and Environment\", \"Date_Data_Last_Updated\": \"Data through August 3, 2020\", \"Shape__Area\": 0.410131013649561, \"Shape__Length\": 3.08744487725261}}, {\"attributes\": {\"OBJECTID\": 25, \"FULL_\": \"Huerfano County\", \"GEOID\": \"08055\", \"LABEL\": \"Huerfano\", \"STAETFP\": \"08\", \"COUNTY\": \"HUERFANO\", \"COUNTYFP\": \"055\", \"County_Pos_Cases\": 6, \"County_Population\": 6854, \"County_Rate_Per_100_000\": 87.54, \"County_Pos_Cases_Yesterday\": 6, \"County_Pos_Cases_Change\": 0, \"County_Deaths\": 1, \"County_Deaths_Yesterday\": 1, \"County_Deaths_Change\": 0, \"State_Pos_Cases\": 48394, \"State_Population\": 5694287, \"State_Rate_Per_100000\": 849.87, \"State_Deaths\": 1849, \"State_CDC_Deaths\": 1710, \"State_Number_Hospitalizations\": 6516, \"State_Number_Tested\": 552205, \"State_Test_Encounters\": 727026, \"State_Number_of_Counties_Pos\": 63, \"State_Number_of_Outbreaks\": 488, \"Data_Source\": \"Colorado Department of Public Health and Environment\", \"Date_Data_Last_Updated\": \"Data through August 3, 2020\", \"Shape__Area\": 0.421501116506988, \"Shape__Length\": 3.86938754513048}}, {\"attributes\": {\"OBJECTID\": 26, \"FULL_\": \"Delta County\", \"GEOID\": \"08029\", \"LABEL\": \"Delta\", \"STAETFP\": \"08\", \"COUNTY\": \"DELTA\", \"COUNTYFP\": \"029\", \"County_Pos_Cases\": 115, \"County_Population\": 30936, \"County_Rate_Per_100_000\": 371.74, \"County_Pos_Cases_Yesterday\": 110, \"County_Pos_Cases_Change\": 5, \"County_Deaths\": 1, \"County_Deaths_Yesterday\": 1, \"County_Deaths_Change\": 0, \"State_Pos_Cases\": 48394, \"State_Population\": 5694287, \"State_Rate_Per_100000\": 849.87, \"State_Deaths\": 1849, \"State_CDC_Deaths\": 1710, \"State_Number_Hospitalizations\": 6516, \"State_Number_Tested\": 552205, \"State_Test_Encounters\": 727026, \"State_Number_of_Counties_Pos\": 63, \"State_Number_of_Outbreaks\": 488, \"Data_Source\": \"Colorado Department of Public Health and Environment\", \"Date_Data_Last_Updated\": \"Data through August 3, 2020\", \"Shape__Area\": 0.308746291500029, \"Shape__Length\": 2.74902209908906}}, {\"attributes\": {\"OBJECTID\": 27, \"FULL_\": \"Garfield County\", \"GEOID\": \"08045\", \"LABEL\": \"Garfield\", \"STAETFP\": \"08\", \"COUNTY\": \"GARFIELD\", \"COUNTYFP\": \"045\", \"County_Pos_Cases\": 734, \"County_Population\": 59807, \"County_Rate_Per_100_000\": 1227.28, \"County_Pos_Cases_Yesterday\": 721, \"County_Pos_Cases_Change\": 13, \"County_Deaths\": 4, \"County_Deaths_Yesterday\": 4, \"County_Deaths_Change\": 0, \"State_Pos_Cases\": 48394, \"State_Population\": 5694287, \"State_Rate_Per_100000\": 849.87, \"State_Deaths\": 1849, \"State_CDC_Deaths\": 1710, \"State_Number_Hospitalizations\": 6516, \"State_Number_Tested\": 552205, \"State_Test_Encounters\": 727026, \"State_Number_of_Counties_Pos\": 63, \"State_Number_of_Outbreaks\": 488, \"Data_Source\": \"Colorado Department of Public Health and Environment\", \"Date_Data_Last_Updated\": \"Data through August 3, 2020\", \"Shape__Area\": 0.802786983200804, \"Shape__Length\": 5.50838968438734}}, {\"attributes\": {\"OBJECTID\": 28, \"FULL_\": \"Rio Blanco County\", \"GEOID\": \"08103\", \"LABEL\": \"Rio Blanco\", \"STAETFP\": \"08\", \"COUNTY\": \"RIO BLANCO\", \"COUNTYFP\": \"103\", \"County_Pos_Cases\": 8, \"County_Population\": 6305, \"County_Rate_Per_100_000\": 126.88, \"County_Pos_Cases_Yesterday\": 8, \"County_Pos_Cases_Change\": 0, \"County_Deaths\": null, \"County_Deaths_Yesterday\": null, \"County_Deaths_Change\": null, \"State_Pos_Cases\": 48394, \"State_Population\": 5694287, \"State_Rate_Per_100000\": 849.87, \"State_Deaths\": 1849, \"State_CDC_Deaths\": 1710, \"State_Number_Hospitalizations\": 6516, \"State_Number_Tested\": 552205, \"State_Test_Encounters\": 727026, \"State_Number_of_Counties_Pos\": 63, \"State_Number_of_Outbreaks\": 488, \"Data_Source\": \"Colorado Department of Public Health and Environment\", \"Date_Data_Last_Updated\": \"Data through August 3, 2020\", \"Shape__Area\": 0.880092618354411, \"Shape__Length\": 5.18126958764129}}, {\"attributes\": {\"OBJECTID\": 29, \"FULL_\": \"Morgan County\", \"GEOID\": \"08087\", \"LABEL\": \"Morgan\", \"STAETFP\": \"08\", \"COUNTY\": \"MORGAN\", \"COUNTYFP\": \"087\", \"County_Pos_Cases\": 678, \"County_Population\": 28503, \"County_Rate_Per_100_000\": 2378.7, \"County_Pos_Cases_Yesterday\": 677, \"County_Pos_Cases_Change\": 1, \"County_Deaths\": 46, \"County_Deaths_Yesterday\": 46, \"County_Deaths_Change\": 0, \"State_Pos_Cases\": 48394, \"State_Population\": 5694287, \"State_Rate_Per_100000\": 849.87, \"State_Deaths\": 1849, \"State_CDC_Deaths\": 1710, \"State_Number_Hospitalizations\": 6516, \"State_Number_Tested\": 552205, \"State_Test_Encounters\": 727026, \"State_Number_of_Counties_Pos\": 63, \"State_Number_of_Outbreaks\": 488, \"Data_Source\": \"Colorado Department of Public Health and Environment\", \"Date_Data_Last_Updated\": \"Data through August 3, 2020\", \"Shape__Area\": 0.354778438383164, \"Shape__Length\": 2.4152700222455}}, {\"attributes\": {\"OBJECTID\": 30, \"FULL_\": \"Lincoln County\", \"GEOID\": \"08073\", \"LABEL\": \"Lincoln\", \"STAETFP\": \"08\", \"COUNTY\": \"LINCOLN\", \"COUNTYFP\": \"073\", \"County_Pos_Cases\": 6, \"County_Population\": 5584, \"County_Rate_Per_100_000\": 107.45, \"County_Pos_Cases_Yesterday\": 6, \"County_Pos_Cases_Change\": 0, \"County_Deaths\": null, \"County_Deaths_Yesterday\": null, \"County_Deaths_Change\": null, \"State_Pos_Cases\": 48394, \"State_Population\": 5694287, \"State_Rate_Per_100000\": 849.87, \"State_Deaths\": 1849, \"State_CDC_Deaths\": 1710, \"State_Number_Hospitalizations\": 6516, \"State_Number_Tested\": 552205, \"State_Test_Encounters\": 727026, \"State_Number_of_Counties_Pos\": 63, \"State_Number_of_Outbreaks\": 488, \"Data_Source\": \"Colorado Department of Public Health and Environment\", \"Date_Data_Last_Updated\": \"Data through August 3, 2020\", \"Shape__Area\": 0.696476992948874, \"Shape__Length\": 3.90098185833429}}, {\"attributes\": {\"OBJECTID\": 31, \"FULL_\": \"Montezuma County\", \"GEOID\": \"08083\", \"LABEL\": \"Montezuma\", \"STAETFP\": \"08\", \"COUNTY\": \"MONTEZUMA\", \"COUNTYFP\": \"083\", \"County_Pos_Cases\": 108, \"County_Population\": 26159, \"County_Rate_Per_100_000\": 412.86, \"County_Pos_Cases_Yesterday\": 108, \"County_Pos_Cases_Change\": 0, \"County_Deaths\": 4, \"County_Deaths_Yesterday\": 4, \"County_Deaths_Change\": 0, \"State_Pos_Cases\": 48394, \"State_Population\": 5694287, \"State_Rate_Per_100000\": 849.87, \"State_Deaths\": 1849, \"State_CDC_Deaths\": 1710, \"State_Number_Hospitalizations\": 6516, \"State_Number_Tested\": 552205, \"State_Test_Encounters\": 727026, \"State_Number_of_Counties_Pos\": 63, \"State_Number_of_Outbreaks\": 488, \"Data_Source\": \"Colorado Department of Public Health and Environment\", \"Date_Data_Last_Updated\": \"Data through August 3, 2020\", \"Shape__Area\": 0.537190899236975, \"Shape__Length\": 3.2924330468367}}, {\"attributes\": {\"OBJECTID\": 32, \"FULL_\": \"Adams County\", \"GEOID\": \"08001\", \"LABEL\": \"Adams\", \"STAETFP\": \"08\", \"COUNTY\": \"ADAMS\", \"COUNTYFP\": \"001\", \"County_Pos_Cases\": 6181, \"County_Population\": 511473, \"County_Rate_Per_100_000\": 1208.47, \"County_Pos_Cases_Yesterday\": 6115, \"County_Pos_Cases_Change\": 66, \"County_Deaths\": 173, \"County_Deaths_Yesterday\": 171, \"County_Deaths_Change\": 2, \"State_Pos_Cases\": 48394, \"State_Population\": 5694287, \"State_Rate_Per_100000\": 849.87, \"State_Deaths\": 1849, \"State_CDC_Deaths\": 1710, \"State_Number_Hospitalizations\": 6516, \"State_Number_Tested\": 552205, \"State_Test_Encounters\": 727026, \"State_Number_of_Counties_Pos\": 63, \"State_Number_of_Outbreaks\": 488, \"Data_Source\": \"Colorado Department of Public Health and Environment\", \"Date_Data_Last_Updated\": \"Data through August 3, 2020\", \"Shape__Area\": 0.322672523779602, \"Shape__Length\": 4.3210831973844}}, {\"attributes\": {\"OBJECTID\": 33, \"FULL_\": \"Mineral County\", \"GEOID\": \"08079\", \"LABEL\": \"Mineral\", \"STAETFP\": \"08\", \"COUNTY\": \"MINERAL\", \"COUNTYFP\": \"079\", \"County_Pos_Cases\": 18, \"County_Population\": 777, \"County_Rate_Per_100_000\": 2316.6, \"County_Pos_Cases_Yesterday\": 18, \"County_Pos_Cases_Change\": 0, \"County_Deaths\": null, \"County_Deaths_Yesterday\": null, \"County_Deaths_Change\": null, \"State_Pos_Cases\": 48394, \"State_Population\": 5694287, \"State_Rate_Per_100000\": 849.87, \"State_Deaths\": 1849, \"State_CDC_Deaths\": 1710, \"State_Number_Hospitalizations\": 6516, \"State_Number_Tested\": 552205, \"State_Test_Encounters\": 727026, \"State_Number_of_Counties_Pos\": 63, \"State_Number_of_Outbreaks\": 488, \"Data_Source\": \"Colorado Department of Public Health and Environment\", \"Date_Data_Last_Updated\": \"Data through August 3, 2020\", \"Shape__Area\": 0.232168624270344, \"Shape__Length\": 2.04506683988138}}, {\"attributes\": {\"OBJECTID\": 34, \"FULL_\": \"Otero County\", \"GEOID\": \"08089\", \"LABEL\": \"Otero\", \"STAETFP\": \"08\", \"COUNTY\": \"OTERO\", \"COUNTYFP\": \"089\", \"County_Pos_Cases\": 63, \"County_Population\": 18364, \"County_Rate_Per_100_000\": 343.06, \"County_Pos_Cases_Yesterday\": 61, \"County_Pos_Cases_Change\": 2, \"County_Deaths\": 6, \"County_Deaths_Yesterday\": 6, \"County_Deaths_Change\": 0, \"State_Pos_Cases\": 48394, \"State_Population\": 5694287, \"State_Rate_Per_100000\": 849.87, \"State_Deaths\": 1849, \"State_CDC_Deaths\": 1710, \"State_Number_Hospitalizations\": 6516, \"State_Number_Tested\": 552205, \"State_Test_Encounters\": 727026, \"State_Number_of_Counties_Pos\": 63, \"State_Number_of_Outbreaks\": 488, \"Data_Source\": \"Colorado Department of Public Health and Environment\", \"Date_Data_Last_Updated\": \"Data through August 3, 2020\", \"Shape__Area\": 0.336877498493777, \"Shape__Length\": 2.65281032058161}}, {\"attributes\": {\"OBJECTID\": 35, \"FULL_\": \"Phillips County\", \"GEOID\": \"08095\", \"LABEL\": \"Phillips\", \"STAETFP\": \"08\", \"COUNTY\": \"PHILLIPS\", \"COUNTYFP\": \"095\", \"County_Pos_Cases\": 19, \"County_Population\": 4266, \"County_Rate_Per_100_000\": 445.38, \"County_Pos_Cases_Yesterday\": 19, \"County_Pos_Cases_Change\": 0, \"County_Deaths\": null, \"County_Deaths_Yesterday\": null, \"County_Deaths_Change\": null, \"State_Pos_Cases\": 48394, \"State_Population\": 5694287, \"State_Rate_Per_100000\": 849.87, \"State_Deaths\": 1849, \"State_CDC_Deaths\": 1710, \"State_Number_Hospitalizations\": 6516, \"State_Number_Tested\": 552205, \"State_Test_Encounters\": 727026, \"State_Number_of_Counties_Pos\": 63, \"State_Number_of_Outbreaks\": 488, \"Data_Source\": \"Colorado Department of Public Health and Environment\", \"Date_Data_Last_Updated\": \"Data through August 3, 2020\", \"Shape__Area\": 0.189577963613374, \"Shape__Length\": 1.84809838653474}}, {\"attributes\": {\"OBJECTID\": 36, \"FULL_\": \"Ouray County\", \"GEOID\": \"08091\", \"LABEL\": \"Ouray\", \"STAETFP\": \"08\", \"COUNTY\": \"OURAY\", \"COUNTYFP\": \"091\", \"County_Pos_Cases\": 12, \"County_Population\": 4798, \"County_Rate_Per_100_000\": 250.1, \"County_Pos_Cases_Yesterday\": 12, \"County_Pos_Cases_Change\": 0, \"County_Deaths\": 1, \"County_Deaths_Yesterday\": 1, \"County_Deaths_Change\": 0, \"State_Pos_Cases\": 48394, \"State_Population\": 5694287, \"State_Rate_Per_100000\": 849.87, \"State_Deaths\": 1849, \"State_CDC_Deaths\": 1710, \"State_Number_Hospitalizations\": 6516, \"State_Number_Tested\": 552205, \"State_Test_Encounters\": 727026, \"State_Number_of_Counties_Pos\": 63, \"State_Number_of_Outbreaks\": 488, \"Data_Source\": \"Colorado Department of Public Health and Environment\", \"Date_Data_Last_Updated\": \"Data through August 3, 2020\", \"Shape__Area\": 0.144347976659674, \"Shape__Length\": 2.22546024391623}}, {\"attributes\": {\"OBJECTID\": 37, \"FULL_\": \"Bent County\", \"GEOID\": \"08011\", \"LABEL\": \"Bent\", \"STAETFP\": \"08\", \"COUNTY\": \"BENT\", \"COUNTYFP\": \"011\", \"County_Pos_Cases\": 6, \"County_Population\": 5819, \"County_Rate_Per_100_000\": 103.11, \"County_Pos_Cases_Yesterday\": 5, \"County_Pos_Cases_Change\": 1, \"County_Deaths\": null, \"County_Deaths_Yesterday\": null, \"County_Deaths_Change\": null, \"State_Pos_Cases\": 48394, \"State_Population\": 5694287, \"State_Rate_Per_100000\": 849.87, \"State_Deaths\": 1849, \"State_CDC_Deaths\": 1710, \"State_Number_Hospitalizations\": 6516, \"State_Number_Tested\": 552205, \"State_Test_Encounters\": 727026, \"State_Number_of_Counties_Pos\": 63, \"State_Number_of_Outbreaks\": 488, \"Data_Source\": \"Colorado Department of Public Health and Environment\", \"Date_Data_Last_Updated\": \"Data through August 3, 2020\", \"Shape__Area\": 0.409167926002738, \"Shape__Length\": 2.57239140514481}}, {\"attributes\": {\"OBJECTID\": 38, \"FULL_\": \"Archuleta County\", \"GEOID\": \"08007\", \"LABEL\": \"Archuleta\", \"STAETFP\": \"08\", \"COUNTY\": \"ARCHULETA\", \"COUNTYFP\": \"007\", \"County_Pos_Cases\": 33, \"County_Population\": 13737, \"County_Rate_Per_100_000\": 240.23, \"County_Pos_Cases_Yesterday\": 33, \"County_Pos_Cases_Change\": 0, \"County_Deaths\": null, \"County_Deaths_Yesterday\": null, \"County_Deaths_Change\": null, \"State_Pos_Cases\": 48394, \"State_Population\": 5694287, \"State_Rate_Per_100000\": 849.87, \"State_Deaths\": 1849, \"State_CDC_Deaths\": 1710, \"State_Number_Hospitalizations\": 6516, \"State_Number_Tested\": 552205, \"State_Test_Encounters\": 727026, \"State_Number_of_Counties_Pos\": 63, \"State_Number_of_Outbreaks\": 488, \"Data_Source\": \"Colorado Department of Public Health and Environment\", \"Date_Data_Last_Updated\": \"Data through August 3, 2020\", \"Shape__Area\": 0.356264414261886, \"Shape__Length\": 2.77748645536479}}, {\"attributes\": {\"OBJECTID\": 39, \"FULL_\": \"Routt County\", \"GEOID\": \"08107\", \"LABEL\": \"Routt\", \"STAETFP\": \"08\", \"COUNTY\": \"ROUTT\", \"COUNTYFP\": \"107\", \"County_Pos_Cases\": 110, \"County_Population\": 25683, \"County_Rate_Per_100_000\": 428.3, \"County_Pos_Cases_Yesterday\": 108, \"County_Pos_Cases_Change\": 2, \"County_Deaths\": 6, \"County_Deaths_Yesterday\": 6, \"County_Deaths_Change\": 0, \"State_Pos_Cases\": 48394, \"State_Population\": 5694287, \"State_Rate_Per_100000\": 849.87, \"State_Deaths\": 1849, \"State_CDC_Deaths\": 1710, \"State_Number_Hospitalizations\": 6516, \"State_Number_Tested\": 552205, \"State_Test_Encounters\": 727026, \"State_Number_of_Counties_Pos\": 63, \"State_Number_of_Outbreaks\": 488, \"Data_Source\": \"Colorado Department of Public Health and Environment\", \"Date_Data_Last_Updated\": \"Data through August 3, 2020\", \"Shape__Area\": 0.651459520021035, \"Shape__Length\": 4.10509579084708}}, {\"attributes\": {\"OBJECTID\": 40, \"FULL_\": \"Hinsdale County\", \"GEOID\": \"08053\", \"LABEL\": \"Hinsdale\", \"STAETFP\": \"08\", \"COUNTY\": \"HINSDALE\", \"COUNTYFP\": \"053\", \"County_Pos_Cases\": 3, \"County_Population\": 804, \"County_Rate_Per_100_000\": -1, \"County_Pos_Cases_Yesterday\": 3, \"County_Pos_Cases_Change\": 0, \"County_Deaths\": null, \"County_Deaths_Yesterday\": null, \"County_Deaths_Change\": null, \"State_Pos_Cases\": 48394, \"State_Population\": 5694287, \"State_Rate_Per_100000\": 849.87, \"State_Deaths\": 1849, \"State_CDC_Deaths\": 1710, \"State_Number_Hospitalizations\": 6516, \"State_Number_Tested\": 552205, \"State_Test_Encounters\": 727026, \"State_Number_of_Counties_Pos\": 63, \"State_Number_of_Outbreaks\": 488, \"Data_Source\": \"Colorado Department of Public Health and Environment\", \"Date_Data_Last_Updated\": \"Data through August 3, 2020\", \"Shape__Area\": 0.29767108910778, \"Shape__Length\": 2.84695016312372}}, {\"attributes\": {\"OBJECTID\": 41, \"FULL_\": \"Weld County\", \"GEOID\": \"08123\", \"LABEL\": \"Weld\", \"STAETFP\": \"08\", \"COUNTY\": \"WELD\", \"COUNTYFP\": \"123\", \"County_Pos_Cases\": 3580, \"County_Population\": 314251, \"County_Rate_Per_100_000\": 1139.22, \"County_Pos_Cases_Yesterday\": 3552, \"County_Pos_Cases_Change\": 28, \"County_Deaths\": 142, \"County_Deaths_Yesterday\": 141, \"County_Deaths_Change\": 1, \"State_Pos_Cases\": 48394, \"State_Population\": 5694287, \"State_Rate_Per_100000\": 849.87, \"State_Deaths\": 1849, \"State_CDC_Deaths\": 1710, \"State_Number_Hospitalizations\": 6516, \"State_Number_Tested\": 552205, \"State_Test_Encounters\": 727026, \"State_Number_of_Counties_Pos\": 63, \"State_Number_of_Outbreaks\": 488, \"Data_Source\": \"Colorado Department of Public Health and Environment\", \"Date_Data_Last_Updated\": \"Data through August 3, 2020\", \"Shape__Area\": 1.10610954447702, \"Shape__Length\": 5.09979297775078}}, {\"attributes\": {\"OBJECTID\": 42, \"FULL_\": \"Larimer County\", \"GEOID\": \"08069\", \"LABEL\": \"Larimer\", \"STAETFP\": \"08\", \"COUNTY\": \"LARIMER\", \"COUNTYFP\": \"069\", \"County_Pos_Cases\": 1420, \"County_Population\": 350362, \"County_Rate_Per_100_000\": 405.3, \"County_Pos_Cases_Yesterday\": 1417, \"County_Pos_Cases_Change\": 3, \"County_Deaths\": 35, \"County_Deaths_Yesterday\": 35, \"County_Deaths_Change\": 0, \"State_Pos_Cases\": 48394, \"State_Population\": 5694287, \"State_Rate_Per_100000\": 849.87, \"State_Deaths\": 1849, \"State_CDC_Deaths\": 1710, \"State_Number_Hospitalizations\": 6516, \"State_Number_Tested\": 552205, \"State_Test_Encounters\": 727026, \"State_Number_of_Counties_Pos\": 63, \"State_Number_of_Outbreaks\": 488, \"Data_Source\": \"Colorado Department of Public Health and Environment\", \"Date_Data_Last_Updated\": \"Data through August 3, 2020\", \"Shape__Area\": 0.726530757031469, \"Shape__Length\": 3.89982681544696}}, {\"attributes\": {\"OBJECTID\": 43, \"FULL_\": \"Lake County\", \"GEOID\": \"08065\", \"LABEL\": \"Lake\", \"STAETFP\": \"08\", \"COUNTY\": \"LAKE\", \"COUNTYFP\": \"065\", \"County_Pos_Cases\": 73, \"County_Population\": 7762, \"County_Rate_Per_100_000\": 940.48, \"County_Pos_Cases_Yesterday\": 73, \"County_Pos_Cases_Change\": 0, \"County_Deaths\": null, \"County_Deaths_Yesterday\": null, \"County_Deaths_Change\": null, \"State_Pos_Cases\": 48394, \"State_Population\": 5694287, \"State_Rate_Per_100000\": 849.87, \"State_Deaths\": 1849, \"State_CDC_Deaths\": 1710, \"State_Number_Hospitalizations\": 6516, \"State_Number_Tested\": 552205, \"State_Test_Encounters\": 727026, \"State_Number_of_Counties_Pos\": 63, \"State_Number_of_Outbreaks\": 488, \"Data_Source\": \"Colorado Department of Public Health and Environment\", \"Date_Data_Last_Updated\": \"Data through August 3, 2020\", \"Shape__Area\": 0.103687200717559, \"Shape__Length\": 1.72745358078377}}, {\"attributes\": {\"OBJECTID\": 44, \"FULL_\": \"Rio Grande County\", \"GEOID\": \"08105\", \"LABEL\": \"Rio Grande\", \"STAETFP\": \"08\", \"COUNTY\": \"RIO GRANDE\", \"COUNTYFP\": \"105\", \"County_Pos_Cases\": 87, \"County_Population\": 11226, \"County_Rate_Per_100_000\": 774.99, \"County_Pos_Cases_Yesterday\": 87, \"County_Pos_Cases_Change\": 0, \"County_Deaths\": 2, \"County_Deaths_Yesterday\": 2, \"County_Deaths_Change\": 0, \"State_Pos_Cases\": 48394, \"State_Population\": 5694287, \"State_Rate_Per_100000\": 849.87, \"State_Deaths\": 1849, \"State_CDC_Deaths\": 1710, \"State_Number_Hospitalizations\": 6516, \"State_Number_Tested\": 552205, \"State_Test_Encounters\": 727026, \"State_Number_of_Counties_Pos\": 63, \"State_Number_of_Outbreaks\": 488, \"Data_Source\": \"Colorado Department of Public Health and Environment\", \"Date_Data_Last_Updated\": \"Data through August 3, 2020\", \"Shape__Area\": 0.241033137835757, \"Shape__Length\": 2.21073822643431}}, {\"attributes\": {\"OBJECTID\": 45, \"FULL_\": \"Gilpin County\", \"GEOID\": \"08047\", \"LABEL\": \"Gilpin\", \"STAETFP\": \"08\", \"COUNTY\": \"GILPIN\", \"COUNTYFP\": \"047\", \"County_Pos_Cases\": 16, \"County_Population\": 6097, \"County_Rate_Per_100_000\": 262.42, \"County_Pos_Cases_Yesterday\": 16, \"County_Pos_Cases_Change\": 0, \"County_Deaths\": null, \"County_Deaths_Yesterday\": null, \"County_Deaths_Change\": null, \"State_Pos_Cases\": 48394, \"State_Population\": 5694287, \"State_Rate_Per_100000\": 849.87, \"State_Deaths\": 1849, \"State_CDC_Deaths\": 1710, \"State_Number_Hospitalizations\": 6516, \"State_Number_Tested\": 552205, \"State_Test_Encounters\": 727026, \"State_Number_of_Counties_Pos\": 63, \"State_Number_of_Outbreaks\": 488, \"Data_Source\": \"Colorado Department of Public Health and Environment\", \"Date_Data_Last_Updated\": \"Data through August 3, 2020\", \"Shape__Area\": 0.0409605716740771, \"Shape__Length\": 0.973252095597924}}, {\"attributes\": {\"OBJECTID\": 46, \"FULL_\": \"Yuma County\", \"GEOID\": \"08125\", \"LABEL\": \"Yuma\", \"STAETFP\": \"08\", \"COUNTY\": \"YUMA\", \"COUNTYFP\": \"125\", \"County_Pos_Cases\": 62, \"County_Population\": 10029, \"County_Rate_Per_100_000\": 618.21, \"County_Pos_Cases_Yesterday\": 62, \"County_Pos_Cases_Change\": 0, \"County_Deaths\": null, \"County_Deaths_Yesterday\": null, \"County_Deaths_Change\": null, \"State_Pos_Cases\": 48394, \"State_Population\": 5694287, \"State_Rate_Per_100000\": 849.87, \"State_Deaths\": 1849, \"State_CDC_Deaths\": 1710, \"State_Number_Hospitalizations\": 6516, \"State_Number_Tested\": 552205, \"State_Test_Encounters\": 727026, \"State_Number_of_Counties_Pos\": 63, \"State_Number_of_Outbreaks\": 488, \"Data_Source\": \"Colorado Department of Public Health and Environment\", \"Date_Data_Last_Updated\": \"Data through August 3, 2020\", \"Shape__Area\": 0.647060268172481, \"Shape__Length\": 3.24382405750967}}, {\"attributes\": {\"OBJECTID\": 47, \"FULL_\": \"Jackson County\", \"GEOID\": \"08057\", \"LABEL\": \"Jackson\", \"STAETFP\": \"08\", \"COUNTY\": \"JACKSON\", \"COUNTYFP\": \"057\", \"County_Pos_Cases\": 8, \"County_Population\": 1396, \"County_Rate_Per_100_000\": 573.07, \"County_Pos_Cases_Yesterday\": 8, \"County_Pos_Cases_Change\": 0, \"County_Deaths\": null, \"County_Deaths_Yesterday\": null, \"County_Deaths_Change\": null, \"State_Pos_Cases\": 48394, \"State_Population\": 5694287, \"State_Rate_Per_100000\": 849.87, \"State_Deaths\": 1849, \"State_CDC_Deaths\": 1710, \"State_Number_Hospitalizations\": 6516, \"State_Number_Tested\": 552205, \"State_Test_Encounters\": 727026, \"State_Number_of_Counties_Pos\": 63, \"State_Number_of_Outbreaks\": 488, \"Data_Source\": \"Colorado Department of Public Health and Environment\", \"Date_Data_Last_Updated\": \"Data through August 3, 2020\", \"Shape__Area\": 0.447106418412659, \"Shape__Length\": 3.77163984101511}}, {\"attributes\": {\"OBJECTID\": 48, \"FULL_\": \"Kit Carson County\", \"GEOID\": \"08063\", \"LABEL\": \"Kit Carson\", \"STAETFP\": \"08\", \"COUNTY\": \"KIT CARSON\", \"COUNTYFP\": \"063\", \"County_Pos_Cases\": 43, \"County_Population\": 7157, \"County_Rate_Per_100_000\": 600.81, \"County_Pos_Cases_Yesterday\": 43, \"County_Pos_Cases_Change\": 0, \"County_Deaths\": 3, \"County_Deaths_Yesterday\": 3, \"County_Deaths_Change\": 0, \"State_Pos_Cases\": 48394, \"State_Population\": 5694287, \"State_Rate_Per_100000\": 849.87, \"State_Deaths\": 1849, \"State_CDC_Deaths\": 1710, \"State_Number_Hospitalizations\": 6516, \"State_Number_Tested\": 552205, \"State_Test_Encounters\": 727026, \"State_Number_of_Counties_Pos\": 63, \"State_Number_of_Outbreaks\": 488, \"Data_Source\": \"Colorado Department of Public Health and Environment\", \"Date_Data_Last_Updated\": \"Data through August 3, 2020\", \"Shape__Area\": 0.584674359648034, \"Shape__Length\": 3.28545636703058}}, {\"attributes\": {\"OBJECTID\": 49, \"FULL_\": \"Clear Creek County\", \"GEOID\": \"08019\", \"LABEL\": \"Clear Creek\", \"STAETFP\": \"08\", \"COUNTY\": \"CLEAR CREEK\", \"COUNTYFP\": \"019\", \"County_Pos_Cases\": 28, \"County_Population\": 9663, \"County_Rate_Per_100_000\": 289.77, \"County_Pos_Cases_Yesterday\": 27, \"County_Pos_Cases_Change\": 1, \"County_Deaths\": 1, \"County_Deaths_Yesterday\": 1, \"County_Deaths_Change\": 0, \"State_Pos_Cases\": 48394, \"State_Population\": 5694287, \"State_Rate_Per_100000\": 849.87, \"State_Deaths\": 1849, \"State_CDC_Deaths\": 1710, \"State_Number_Hospitalizations\": 6516, \"State_Number_Tested\": 552205, \"State_Test_Encounters\": 727026, \"State_Number_of_Counties_Pos\": 63, \"State_Number_of_Outbreaks\": 488, \"Data_Source\": \"Colorado Department of Public Health and Environment\", \"Date_Data_Last_Updated\": \"Data through August 3, 2020\", \"Shape__Area\": 0.107815475126699, \"Shape__Length\": 1.7200936574538}}, {\"attributes\": {\"OBJECTID\": 50, \"FULL_\": \"Logan County\", \"GEOID\": \"08075\", \"LABEL\": \"Logan\", \"STAETFP\": \"08\", \"COUNTY\": \"LOGAN\", \"COUNTYFP\": \"075\", \"County_Pos_Cases\": 649, \"County_Population\": 21854, \"County_Rate_Per_100_000\": 2969.71, \"County_Pos_Cases_Yesterday\": 648, \"County_Pos_Cases_Change\": 1, \"County_Deaths\": 5, \"County_Deaths_Yesterday\": 5, \"County_Deaths_Change\": 0, \"State_Pos_Cases\": 48394, \"State_Population\": 5694287, \"State_Rate_Per_100000\": 849.87, \"State_Deaths\": 1849, \"State_CDC_Deaths\": 1710, \"State_Number_Hospitalizations\": 6516, \"State_Number_Tested\": 552205, \"State_Test_Encounters\": 727026, \"State_Number_of_Counties_Pos\": 63, \"State_Number_of_Outbreaks\": 488, \"Data_Source\": \"Colorado Department of Public Health and Environment\", \"Date_Data_Last_Updated\": \"Data through August 3, 2020\", \"Shape__Area\": 0.509315868637259, \"Shape__Length\": 2.98709243190606}}, {\"attributes\": {\"OBJECTID\": 51, \"FULL_\": \"Washington County\", \"GEOID\": \"08121\", \"LABEL\": \"Washington\", \"STAETFP\": \"08\", \"COUNTY\": \"WASHINGTON\", \"COUNTYFP\": \"121\", \"County_Pos_Cases\": 47, \"County_Population\": 4729, \"County_Rate_Per_100_000\": 993.87, \"County_Pos_Cases_Yesterday\": 47, \"County_Pos_Cases_Change\": 0, \"County_Deaths\": null, \"County_Deaths_Yesterday\": null, \"County_Deaths_Change\": null, \"State_Pos_Cases\": 48394, \"State_Population\": 5694287, \"State_Rate_Per_100000\": 849.87, \"State_Deaths\": 1849, \"State_CDC_Deaths\": 1710, \"State_Number_Hospitalizations\": 6516, \"State_Number_Tested\": 552205, \"State_Test_Encounters\": 727026, \"State_Number_of_Counties_Pos\": 63, \"State_Number_of_Outbreaks\": 488, \"Data_Source\": \"Colorado Department of Public Health and Environment\", \"Date_Data_Last_Updated\": \"Data through August 3, 2020\", \"Shape__Area\": 0.689156198508726, \"Shape__Length\": 3.59641099493637}}, {\"attributes\": {\"OBJECTID\": 52, \"FULL_\": \"Douglas County\", \"GEOID\": \"08035\", \"LABEL\": \"Douglas\", \"STAETFP\": \"08\", \"COUNTY\": \"DOUGLAS\", \"COUNTYFP\": \"035\", \"County_Pos_Cases\": 1670, \"County_Population\": 342842, \"County_Rate_Per_100_000\": 487.1, \"County_Pos_Cases_Yesterday\": 1653, \"County_Pos_Cases_Change\": 17, \"County_Deaths\": 59, \"County_Deaths_Yesterday\": 59, \"County_Deaths_Change\": 0, \"State_Pos_Cases\": 48394, \"State_Population\": 5694287, \"State_Rate_Per_100000\": 849.87, \"State_Deaths\": 1849, \"State_CDC_Deaths\": 1710, \"State_Number_Hospitalizations\": 6516, \"State_Number_Tested\": 552205, \"State_Test_Encounters\": 727026, \"State_Number_of_Counties_Pos\": 63, \"State_Number_of_Outbreaks\": 488, \"Data_Source\": \"Colorado Department of Public Health and Environment\", \"Date_Data_Last_Updated\": \"Data through August 3, 2020\", \"Shape__Area\": 0.228049517556883, \"Shape__Length\": 2.24626729887819}}, {\"attributes\": {\"OBJECTID\": 53, \"FULL_\": \"Conejos County\", \"GEOID\": \"08021\", \"LABEL\": \"Conejos\", \"STAETFP\": \"08\", \"COUNTY\": \"CONEJOS\", \"COUNTYFP\": \"021\", \"County_Pos_Cases\": 23, \"County_Population\": 8136, \"County_Rate_Per_100_000\": 282.69, \"County_Pos_Cases_Yesterday\": 23, \"County_Pos_Cases_Change\": 0, \"County_Deaths\": null, \"County_Deaths_Yesterday\": null, \"County_Deaths_Change\": null, \"State_Pos_Cases\": 48394, \"State_Population\": 5694287, \"State_Rate_Per_100000\": 849.87, \"State_Deaths\": 1849, \"State_CDC_Deaths\": 1710, \"State_Number_Hospitalizations\": 6516, \"State_Number_Tested\": 552205, \"State_Test_Encounters\": 727026, \"State_Number_of_Counties_Pos\": 63, \"State_Number_of_Outbreaks\": 488, \"Data_Source\": \"Colorado Department of Public Health and Environment\", \"Date_Data_Last_Updated\": \"Data through August 3, 2020\", \"Shape__Area\": 0.339368543220644, \"Shape__Length\": 2.79157037289597}}, {\"attributes\": {\"OBJECTID\": 54, \"FULL_\": \"El Paso County\", \"GEOID\": \"08041\", \"LABEL\": \"El Paso\", \"STAETFP\": \"08\", \"COUNTY\": \"EL PASO\", \"COUNTYFP\": \"041\", \"County_Pos_Cases\": 4663, \"County_Population\": 714395, \"County_Rate_Per_100_000\": 652.72, \"County_Pos_Cases_Yesterday\": 4625, \"County_Pos_Cases_Change\": 38, \"County_Deaths\": 137, \"County_Deaths_Yesterday\": 136, \"County_Deaths_Change\": 1, \"State_Pos_Cases\": 48394, \"State_Population\": 5694287, \"State_Rate_Per_100000\": 849.87, \"State_Deaths\": 1849, \"State_CDC_Deaths\": 1710, \"State_Number_Hospitalizations\": 6516, \"State_Number_Tested\": 552205, \"State_Test_Encounters\": 727026, \"State_Number_of_Counties_Pos\": 63, \"State_Number_of_Outbreaks\": 488, \"Data_Source\": \"Colorado Department of Public Health and Environment\", \"Date_Data_Last_Updated\": \"Data through August 3, 2020\", \"Shape__Area\": 0.57220360663473, \"Shape__Length\": 3.26110555570835}}, {\"attributes\": {\"OBJECTID\": 55, \"FULL_\": \"Kiowa County\", \"GEOID\": \"08061\", \"LABEL\": \"Kiowa\", \"STAETFP\": \"08\", \"COUNTY\": \"KIOWA\", \"COUNTYFP\": \"061\", \"County_Pos_Cases\": 0, \"County_Population\": 1373, \"County_Rate_Per_100_000\": 0, \"County_Pos_Cases_Yesterday\": 0, \"County_Pos_Cases_Change\": 0, \"County_Deaths\": null, \"County_Deaths_Yesterday\": null, \"County_Deaths_Change\": null, \"State_Pos_Cases\": 48394, \"State_Population\": 5694287, \"State_Rate_Per_100000\": 849.87, \"State_Deaths\": 1849, \"State_CDC_Deaths\": 1710, \"State_Number_Hospitalizations\": 6516, \"State_Number_Tested\": 552205, \"State_Test_Encounters\": 727026, \"State_Number_of_Counties_Pos\": 63, \"State_Number_of_Outbreaks\": 488, \"Data_Source\": \"Colorado Department of Public Health and Environment\", \"Date_Data_Last_Updated\": \"Data through August 3, 2020\", \"Shape__Area\": 0.477252055292865, \"Shape__Length\": 3.61712328220314}}, {\"attributes\": {\"OBJECTID\": 56, \"FULL_\": \"Teller County\", \"GEOID\": \"08119\", \"LABEL\": \"Teller\", \"STAETFP\": \"08\", \"COUNTY\": \"TELLER\", \"COUNTYFP\": \"119\", \"County_Pos_Cases\": 117, \"County_Population\": 25060, \"County_Rate_Per_100_000\": 466.88, \"County_Pos_Cases_Yesterday\": 113, \"County_Pos_Cases_Change\": 4, \"County_Deaths\": 3, \"County_Deaths_Yesterday\": 3, \"County_Deaths_Change\": 0, \"State_Pos_Cases\": 48394, \"State_Population\": 5694287, \"State_Rate_Per_100000\": 849.87, \"State_Deaths\": 1849, \"State_CDC_Deaths\": 1710, \"State_Number_Hospitalizations\": 6516, \"State_Number_Tested\": 552205, \"State_Test_Encounters\": 727026, \"State_Number_of_Counties_Pos\": 63, \"State_Number_of_Outbreaks\": 488, \"Data_Source\": \"Colorado Department of Public Health and Environment\", \"Date_Data_Last_Updated\": \"Data through August 3, 2020\", \"Shape__Area\": 0.150289940799894, \"Shape__Length\": 1.82234496665049}}, {\"attributes\": {\"OBJECTID\": 57, \"FULL_\": \"Gunnison County\", \"GEOID\": \"08051\", \"LABEL\": \"Gunnison\", \"STAETFP\": \"08\", \"COUNTY\": \"GUNNISON\", \"COUNTYFP\": \"051\", \"County_Pos_Cases\": 262, \"County_Population\": 17173, \"County_Rate_Per_100_000\": 1525.65, \"County_Pos_Cases_Yesterday\": 257, \"County_Pos_Cases_Change\": 5, \"County_Deaths\": 6, \"County_Deaths_Yesterday\": 6, \"County_Deaths_Change\": 0, \"State_Pos_Cases\": 48394, \"State_Population\": 5694287, \"State_Rate_Per_100000\": 849.87, \"State_Deaths\": 1849, \"State_CDC_Deaths\": 1710, \"State_Number_Hospitalizations\": 6516, \"State_Number_Tested\": 552205, \"State_Test_Encounters\": 727026, \"State_Number_of_Counties_Pos\": 63, \"State_Number_of_Outbreaks\": 488, \"Data_Source\": \"Colorado Department of Public Health and Environment\", \"Date_Data_Last_Updated\": \"Data through August 3, 2020\", \"Shape__Area\": 0.873850227878847, \"Shape__Length\": 5.3534077502362}}, {\"attributes\": {\"OBJECTID\": 58, \"FULL_\": \"Baca County\", \"GEOID\": \"08009\", \"LABEL\": \"Baca\", \"STAETFP\": \"08\", \"COUNTY\": \"BACA\", \"COUNTYFP\": \"009\", \"County_Pos_Cases\": 14, \"County_Population\": 3547, \"County_Rate_Per_100_000\": 394.7, \"County_Pos_Cases_Yesterday\": 14, \"County_Pos_Cases_Change\": 0, \"County_Deaths\": null, \"County_Deaths_Yesterday\": null, \"County_Deaths_Change\": null, \"State_Pos_Cases\": 48394, \"State_Population\": 5694287, \"State_Rate_Per_100000\": 849.87, \"State_Deaths\": 1849, \"State_CDC_Deaths\": 1710, \"State_Number_Hospitalizations\": 6516, \"State_Number_Tested\": 552205, \"State_Test_Encounters\": 727026, \"State_Number_of_Counties_Pos\": 63, \"State_Number_of_Outbreaks\": 488, \"Data_Source\": \"Colorado Department of Public Health and Environment\", \"Date_Data_Last_Updated\": \"Data through August 3, 2020\", \"Shape__Area\": 0.673306733663821, \"Shape__Length\": 3.38201391171949}}, {\"attributes\": {\"OBJECTID\": 59, \"FULL_\": \"Elbert County\", \"GEOID\": \"08039\", \"LABEL\": \"Elbert\", \"STAETFP\": \"08\", \"COUNTY\": \"ELBERT\", \"COUNTYFP\": \"039\", \"County_Pos_Cases\": 92, \"County_Population\": 26218, \"County_Rate_Per_100_000\": 350.9, \"County_Pos_Cases_Yesterday\": 87, \"County_Pos_Cases_Change\": 5, \"County_Deaths\": 2, \"County_Deaths_Yesterday\": 2, \"County_Deaths_Change\": 0, \"State_Pos_Cases\": 48394, \"State_Population\": 5694287, \"State_Rate_Per_100000\": 849.87, \"State_Deaths\": 1849, \"State_CDC_Deaths\": 1710, \"State_Number_Hospitalizations\": 6516, \"State_Number_Tested\": 552205, \"State_Test_Encounters\": 727026, \"State_Number_of_Counties_Pos\": 63, \"State_Number_of_Outbreaks\": 488, \"Data_Source\": \"Colorado Department of Public Health and Environment\", \"Date_Data_Last_Updated\": \"Data through August 3, 2020\", \"Shape__Area\": 0.500512699317142, \"Shape__Length\": 3.29599722898002}}, {\"attributes\": {\"OBJECTID\": 60, \"FULL_\": \"Mesa County\", \"GEOID\": \"08077\", \"LABEL\": \"Mesa\", \"STAETFP\": \"08\", \"COUNTY\": \"MESA\", \"COUNTYFP\": \"077\", \"County_Pos_Cases\": 274, \"County_Population\": 153630, \"County_Rate_Per_100_000\": 178.35, \"County_Pos_Cases_Yesterday\": 271, \"County_Pos_Cases_Change\": 3, \"County_Deaths\": 3, \"County_Deaths_Yesterday\": 3, \"County_Deaths_Change\": 0, \"State_Pos_Cases\": 48394, \"State_Population\": 5694287, \"State_Rate_Per_100000\": 849.87, \"State_Deaths\": 1849, \"State_CDC_Deaths\": 1710, \"State_Number_Hospitalizations\": 6516, \"State_Number_Tested\": 552205, \"State_Test_Encounters\": 727026, \"State_Number_of_Counties_Pos\": 63, \"State_Number_of_Outbreaks\": 488, \"Data_Source\": \"Colorado Department of Public Health and Environment\", \"Date_Data_Last_Updated\": \"Data through August 3, 2020\", \"Shape__Area\": 0.900045880504877, \"Shape__Length\": 5.03656160808276}}, {\"attributes\": {\"OBJECTID\": 61, \"FULL_\": \"Dolores County\", \"GEOID\": \"08033\", \"LABEL\": \"Dolores\", \"STAETFP\": \"08\", \"COUNTY\": \"DOLORES\", \"COUNTYFP\": \"033\", \"County_Pos_Cases\": 1, \"County_Population\": 2053, \"County_Rate_Per_100_000\": -1, \"County_Pos_Cases_Yesterday\": 1, \"County_Pos_Cases_Change\": 0, \"County_Deaths\": null, \"County_Deaths_Yesterday\": null, \"County_Deaths_Change\": null, \"State_Pos_Cases\": 48394, \"State_Population\": 5694287, \"State_Rate_Per_100000\": 849.87, \"State_Deaths\": 1849, \"State_CDC_Deaths\": 1710, \"State_Number_Hospitalizations\": 6516, \"State_Number_Tested\": 552205, \"State_Test_Encounters\": 727026, \"State_Number_of_Counties_Pos\": 63, \"State_Number_of_Outbreaks\": 488, \"Data_Source\": \"Colorado Department of Public Health and Environment\", \"Date_Data_Last_Updated\": \"Data through August 3, 2020\", \"Shape__Area\": 0.282849017190074, \"Shape__Length\": 3.16637669425976}}, {\"attributes\": {\"OBJECTID\": 62, \"FULL_\": \"Arapahoe County\", \"GEOID\": \"08005\", \"LABEL\": \"Arapahoe\", \"STAETFP\": \"08\", \"COUNTY\": \"ARAPAHOE\", \"COUNTYFP\": \"005\", \"County_Pos_Cases\": 7093, \"County_Population\": 651342, \"County_Rate_Per_100_000\": 1088.98, \"County_Pos_Cases_Yesterday\": 7023, \"County_Pos_Cases_Change\": 70, \"County_Deaths\": 364, \"County_Deaths_Yesterday\": 363, \"County_Deaths_Change\": 1, \"State_Pos_Cases\": 48394, \"State_Population\": 5694287, \"State_Rate_Per_100000\": 849.87, \"State_Deaths\": 1849, \"State_CDC_Deaths\": 1710, \"State_Number_Hospitalizations\": 6516, \"State_Number_Tested\": 552205, \"State_Test_Encounters\": 727026, \"State_Number_of_Counties_Pos\": 63, \"State_Number_of_Outbreaks\": 488, \"Data_Source\": \"Colorado Department of Public Health and Environment\", \"Date_Data_Last_Updated\": \"Data through August 3, 2020\", \"Shape__Area\": 0.218915734368238, \"Shape__Length\": 3.71431429249478}}, {\"attributes\": {\"OBJECTID\": 63, \"FULL_\": \"Las Animas County\", \"GEOID\": \"08071\", \"LABEL\": \"Las Animas\", \"STAETFP\": \"08\", \"COUNTY\": \"LAS ANIMAS\", \"COUNTYFP\": \"071\", \"County_Pos_Cases\": 15, \"County_Population\": 14491, \"County_Rate_Per_100_000\": 103.51, \"County_Pos_Cases_Yesterday\": 15, \"County_Pos_Cases_Change\": 0, \"County_Deaths\": null, \"County_Deaths_Yesterday\": null, \"County_Deaths_Change\": null, \"State_Pos_Cases\": 48394, \"State_Population\": 5694287, \"State_Rate_Per_100000\": 849.87, \"State_Deaths\": 1849, \"State_CDC_Deaths\": 1710, \"State_Number_Hospitalizations\": 6516, \"State_Number_Tested\": 552205, \"State_Test_Encounters\": 727026, \"State_Number_of_Counties_Pos\": 63, \"State_Number_of_Outbreaks\": 488, \"Data_Source\": \"Colorado Department of Public Health and Environment\", \"Date_Data_Last_Updated\": \"Data through August 3, 2020\", \"Shape__Area\": 1.25727666851049, \"Shape__Length\": 5.53775154815317}}, {\"attributes\": {\"OBJECTID\": 64, \"FULL_\": \"Grand County\", \"GEOID\": \"08049\", \"LABEL\": \"Grand\", \"STAETFP\": \"08\", \"COUNTY\": \"GRAND\", \"COUNTYFP\": \"049\", \"County_Pos_Cases\": 44, \"County_Population\": 15474, \"County_Rate_Per_100_000\": 284.35, \"County_Pos_Cases_Yesterday\": 44, \"County_Pos_Cases_Change\": 0, \"County_Deaths\": 1, \"County_Deaths_Yesterday\": 1, \"County_Deaths_Change\": 0, \"State_Pos_Cases\": 48394, \"State_Population\": 5694287, \"State_Rate_Per_100000\": 849.87, \"State_Deaths\": 1849, \"State_CDC_Deaths\": 1710, \"State_Number_Hospitalizations\": 6516, \"State_Number_Tested\": 552205, \"State_Test_Encounters\": 727026, \"State_Number_of_Counties_Pos\": 63, \"State_Number_of_Outbreaks\": 488, \"Data_Source\": \"Colorado Department of Public Health and Environment\", \"Date_Data_Last_Updated\": \"Data through August 3, 2020\", \"Shape__Area\": 0.511446195800545, \"Shape__Length\": 4.13096504799278}}, {\"attributes\": {\"OBJECTID\": 65, \"FULL_\": \"OUT OF STATE\", \"GEOID\": null, \"LABEL\": \"OUT OF STATE\", \"STAETFP\": \"08\", \"COUNTY\": \"OUT OF STATE\", \"COUNTYFP\": null, \"County_Pos_Cases\": null, \"County_Population\": null, \"County_Rate_Per_100_000\": null, \"County_Pos_Cases_Yesterday\": null, \"County_Pos_Cases_Change\": null, \"County_Deaths\": null, \"County_Deaths_Yesterday\": null, \"County_Deaths_Change\": null, \"State_Pos_Cases\": 48394, \"State_Population\": 5694287, \"State_Rate_Per_100000\": 849.87, \"State_Deaths\": 1849, \"State_CDC_Deaths\": 1710, \"State_Number_Hospitalizations\": 6516, \"State_Number_Tested\": 552205, \"State_Test_Encounters\": 727026, \"State_Number_of_Counties_Pos\": 63, \"State_Number_of_Outbreaks\": 488, \"Data_Source\": \"Colorado Department of Public Health and Environment\", \"Date_Data_Last_Updated\": \"Data through August 3, 2020\", \"Shape__Area\": null, \"Shape__Length\": null}}, {\"attributes\": {\"OBJECTID\": 66, \"FULL_\": \"UNKNOWN\", \"GEOID\": null, \"LABEL\": \"UNKNOWN\", \"STAETFP\": \"08\", \"COUNTY\": \"UNKNOWN\", \"COUNTYFP\": null, \"County_Pos_Cases\": null, \"County_Population\": null, \"County_Rate_Per_100_000\": null, \"County_Pos_Cases_Yesterday\": null, \"County_Pos_Cases_Change\": null, \"County_Deaths\": null, \"County_Deaths_Yesterday\": null, \"County_Deaths_Change\": null, \"State_Pos_Cases\": 48394, \"State_Population\": 5694287, \"State_Rate_Per_100000\": 849.87, \"State_Deaths\": 1849, \"State_CDC_Deaths\": 1710, \"State_Number_Hospitalizations\": 6516, \"State_Number_Tested\": 552205, \"State_Test_Encounters\": 727026, \"State_Number_of_Counties_Pos\": 63, \"State_Number_of_Outbreaks\": 488, \"Data_Source\": \"Colorado Department of Public Health and Environment\", \"Date_Data_Last_Updated\": \"Data through August 3, 2020\", \"Shape__Area\": null, \"Shape__Length\": null}}, {\"attributes\": {\"OBJECTID\": 67, \"FULL_\": \"INTERNATIONAL\", \"GEOID\": null, \"LABEL\": \"INTERNATIONAL\", \"STAETFP\": \"08\", \"COUNTY\": \"INTERNATIONAL\", \"COUNTYFP\": null, \"County_Pos_Cases\": 18, \"County_Population\": null, \"County_Rate_Per_100_000\": null, \"County_Pos_Cases_Yesterday\": 18, \"County_Pos_Cases_Change\": 0, \"County_Deaths\": null, \"County_Deaths_Yesterday\": null, \"County_Deaths_Change\": null, \"State_Pos_Cases\": 48394, \"State_Population\": 5694287, \"State_Rate_Per_100000\": 849.87, \"State_Deaths\": 1849, \"State_CDC_Deaths\": 1710, \"State_Number_Hospitalizations\": 6516, \"State_Number_Tested\": 552205, \"State_Test_Encounters\": 727026, \"State_Number_of_Counties_Pos\": 63, \"State_Number_of_Outbreaks\": 488, \"Data_Source\": \"Colorado Department of Public Health and Environment\", \"Date_Data_Last_Updated\": \"Data through August 3, 2020\", \"Shape__Area\": null, \"Shape__Length\": null}}]}'"
      ]
     },
     "execution_count": 12,
     "metadata": {},
     "output_type": "execute_result"
    }
   ],
   "source": [
    "body"
   ]
  },
  {
   "cell_type": "code",
   "execution_count": 13,
   "metadata": {},
   "outputs": [],
   "source": [
    "data = json.loads(body)\n",
    "json_simple = data['features']\n",
    "new_list_of_dicts = [x['attributes'] for x in json_simple]"
   ]
  },
  {
   "cell_type": "code",
   "execution_count": 15,
   "metadata": {},
   "outputs": [],
   "source": [
    "data_f = pd.DataFrame(new_list_of_dicts)\n",
    "data_f.index.name = 'id'"
   ]
  },
  {
   "cell_type": "code",
   "execution_count": 18,
   "metadata": {},
   "outputs": [],
   "source": [
    "#filter out non-county values\n",
    "filter_list = ['OUT OF STATE', 'UNKNOWN', 'INTERNATIONAL']\n",
    "#two ways to filter data frames\n",
    "data_f_filter = data_f[~data_f['LABEL'].isin(filter_list)]\n",
    "data_f_filter_chain = data_f[~data_f.LABEL.isin(filter_list)]"
   ]
  },
  {
   "cell_type": "code",
   "execution_count": 22,
   "metadata": {},
   "outputs": [],
   "source": [
    "test = data_f_filter['OBJECTID']"
   ]
  },
  {
   "cell_type": "code",
   "execution_count": 27,
   "metadata": {},
   "outputs": [],
   "source": [
    "data_f_filter.to_csv('covid-data.csv',index=False)"
   ]
  },
  {
   "cell_type": "code",
   "execution_count": 7,
   "metadata": {},
   "outputs": [],
   "source": [
    "#kms named keys to assign in lambda\n",
    "kms_client = boto3.client('kms')"
   ]
  },
  {
   "cell_type": "code",
   "execution_count": 18,
   "metadata": {},
   "outputs": [
    {
     "name": "stdout",
     "output_type": "stream",
     "text": [
      "[{'KeyId': '097a4600-366a-4924-a1e3-0f531ce5926e', 'KeyArn': 'arn:aws:kms:us-west-2:831466106657:key/097a4600-366a-4924-a1e3-0f531ce5926e'}, {'KeyId': 'b28006a8-52bb-4a73-b1f2-4146b06c2b93', 'KeyArn': 'arn:aws:kms:us-west-2:831466106657:key/b28006a8-52bb-4a73-b1f2-4146b06c2b93'}, {'KeyId': 'd99bbcad-c60d-416b-9a7f-8413e2802a5d', 'KeyArn': 'arn:aws:kms:us-west-2:831466106657:key/d99bbcad-c60d-416b-9a7f-8413e2802a5d'}]\n"
     ]
    }
   ],
   "source": [
    "response = kms_client.list_keys()['Keys']\n",
    "print(response)"
   ]
  },
  {
   "cell_type": "code",
   "execution_count": 20,
   "metadata": {},
   "outputs": [
    {
     "name": "stdout",
     "output_type": "stream",
     "text": [
      "['097a4600-366a-4924-a1e3-0f531ce5926e', 'b28006a8-52bb-4a73-b1f2-4146b06c2b93', 'd99bbcad-c60d-416b-9a7f-8413e2802a5d']\n"
     ]
    }
   ],
   "source": [
    "keys_list = []\n",
    "for i in range(0,len(response)):\n",
    "    keys_list.append(response[i]['KeyId'])\n",
    "    \n",
    "print(keys_list)"
   ]
  },
  {
   "cell_type": "code",
   "execution_count": 45,
   "metadata": {},
   "outputs": [
    {
     "name": "stdout",
     "output_type": "stream",
     "text": [
      "{'097a4600-366a-4924-a1e3-0f531ce5926e': [], 'b28006a8-52bb-4a73-b1f2-4146b06c2b93': [{'TagKey': 'Name', 'TagValue': 'capstone_key'}], 'd99bbcad-c60d-416b-9a7f-8413e2802a5d': []}\n"
     ]
    }
   ],
   "source": [
    "response_tag_list = []\n",
    "tag_dict = {}\n",
    "for i in range(0, len(keys_list)):\n",
    "    response_tag_list.append(kms_client.list_resource_tags(KeyId = keys_list[i])['Tags'])\n",
    "    tag_dict[keys_list[i]] = response_tag_list[i]\n",
    "print(tag_dict)"
   ]
  },
  {
   "cell_type": "code",
   "execution_count": 43,
   "metadata": {},
   "outputs": [
    {
     "data": {
      "text/plain": [
       "[]"
      ]
     },
     "execution_count": 43,
     "metadata": {},
     "output_type": "execute_result"
    }
   ],
   "source": [
    "kms_client.list_resource_tags(KeyId = keys_list[0])['Tags']"
   ]
  },
  {
   "cell_type": "code",
   "execution_count": 36,
   "metadata": {},
   "outputs": [
    {
     "data": {
      "text/plain": [
       "{'097a4600-366a-4924-a1e3-0f531ce5926e': [],\n",
       " 'b28006a8-52bb-4a73-b1f2-4146b06c2b93': [{'TagKey': 'Name',\n",
       "   'TagValue': 'capstone_key'}],\n",
       " 'd99bbcad-c60d-416b-9a7f-8413e2802a5d': []}"
      ]
     },
     "execution_count": 36,
     "metadata": {},
     "output_type": "execute_result"
    }
   ],
   "source": [
    "tag_dict"
   ]
  },
  {
   "cell_type": "code",
   "execution_count": 18,
   "metadata": {},
   "outputs": [],
   "source": [
    "keyid1 = response['Keys'][0]['KeyId']\n",
    "keyid2 = response['Keys'][1]['KeyId']"
   ]
  },
  {
   "cell_type": "code",
   "execution_count": 22,
   "metadata": {},
   "outputs": [],
   "source": [
    "response_tags = kms_client.list_resource_tags(KeyId = keyid2)"
   ]
  },
  {
   "cell_type": "code",
   "execution_count": 23,
   "metadata": {},
   "outputs": [
    {
     "data": {
      "text/plain": [
       "'capstone_key'"
      ]
     },
     "execution_count": 23,
     "metadata": {},
     "output_type": "execute_result"
    }
   ],
   "source": [
    "response_tags['Tags'][0]['TagValue']"
   ]
  },
  {
   "cell_type": "code",
   "execution_count": 25,
   "metadata": {},
   "outputs": [
    {
     "data": {
      "text/plain": [
       "{'Keys': [{'KeyId': '54e698dd-00f8-443e-8109-6aaab892ae38',\n",
       "   'KeyArn': 'arn:aws:kms:us-west-2:064865197051:key/54e698dd-00f8-443e-8109-6aaab892ae38'},\n",
       "  {'KeyId': 'd89f6a63-2390-4e9a-8bb1-13504f50785c',\n",
       "   'KeyArn': 'arn:aws:kms:us-west-2:064865197051:key/d89f6a63-2390-4e9a-8bb1-13504f50785c'}],\n",
       " 'Truncated': False,\n",
       " 'ResponseMetadata': {'RequestId': '0c25fd15-87e4-413d-8689-a8df7584f35b',\n",
       "  'HTTPStatusCode': 200,\n",
       "  'HTTPHeaders': {'x-amzn-requestid': '0c25fd15-87e4-413d-8689-a8df7584f35b',\n",
       "   'cache-control': 'no-cache, no-store, must-revalidate, private',\n",
       "   'expires': '0',\n",
       "   'pragma': 'no-cache',\n",
       "   'date': 'Wed, 5 Aug 2020 14:46:07 GMT',\n",
       "   'content-type': 'application/x-amz-json-1.1',\n",
       "   'content-length': '313'},\n",
       "  'RetryAttempts': 0}}"
      ]
     },
     "execution_count": 25,
     "metadata": {},
     "output_type": "execute_result"
    }
   ],
   "source": [
    "response"
   ]
  },
  {
   "cell_type": "code",
   "execution_count": null,
   "metadata": {},
   "outputs": [],
   "source": []
  }
 ],
 "metadata": {
  "kernelspec": {
   "display_name": "Python 3",
   "language": "python",
   "name": "python3"
  },
  "language_info": {
   "codemirror_mode": {
    "name": "ipython",
    "version": 3
   },
   "file_extension": ".py",
   "mimetype": "text/x-python",
   "name": "python",
   "nbconvert_exporter": "python",
   "pygments_lexer": "ipython3",
   "version": "3.8.3"
  }
 },
 "nbformat": 4,
 "nbformat_minor": 4
}
