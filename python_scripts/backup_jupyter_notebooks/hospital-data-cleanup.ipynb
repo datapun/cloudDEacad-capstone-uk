{
 "cells": [
  {
   "cell_type": "code",
   "execution_count": 1,
   "metadata": {},
   "outputs": [],
   "source": [
    "import urllib.request as request\n",
    "import json\n",
    "import boto3\n",
    "import pandas as pd"
   ]
  },
  {
   "cell_type": "code",
   "execution_count": 6,
   "metadata": {},
   "outputs": [],
   "source": [
    "#read the timestamd data to combine into a filename to load \n",
    "s3_read = boto3.resource('s3')\n",
    "s3_bucket = boto3.client('s3')\n",
    "bucket_response = s3_bucket.list_buckets()"
   ]
  },
  {
   "cell_type": "code",
   "execution_count": 7,
   "metadata": {},
   "outputs": [
    {
     "data": {
      "text/plain": [
       "{'ResponseMetadata': {'RequestId': '1E1AE2EEFF70F5E3',\n",
       "  'HostId': 'JPZWcwFo1UbMlmm2wHKx3wBH9OUqd6zGbqly31Hfa3Bf/2TwoZN7Ip56AN0O25zinCywTT0DRpk=',\n",
       "  'HTTPStatusCode': 200,\n",
       "  'HTTPHeaders': {'x-amz-id-2': 'JPZWcwFo1UbMlmm2wHKx3wBH9OUqd6zGbqly31Hfa3Bf/2TwoZN7Ip56AN0O25zinCywTT0DRpk=',\n",
       "   'x-amz-request-id': '1E1AE2EEFF70F5E3',\n",
       "   'date': 'Thu, 06 Aug 2020 05:45:26 GMT',\n",
       "   'content-type': 'application/xml',\n",
       "   'transfer-encoding': 'chunked',\n",
       "   'server': 'AmazonS3'},\n",
       "  'RetryAttempts': 0},\n",
       " 'Buckets': [],\n",
       " 'Owner': {'DisplayName': 'lab+LabServices-Prod-2757',\n",
       "  'ID': '3feeb722be952f7d484a6aa8a8afbd23aeeaae3389c39bbe4cebe87c543dbf59'}}"
      ]
     },
     "execution_count": 7,
     "metadata": {},
     "output_type": "execute_result"
    }
   ],
   "source": [
    "bucket_response"
   ]
  },
  {
   "cell_type": "code",
   "execution_count": null,
   "metadata": {},
   "outputs": [],
   "source": [
    "bucketname = 'capstone-team-uk-data-dump-bucket'\n",
    "itemname = 'raw-zone/timestamp_file_hospital.txt'\n",
    "obj = s3_read.Object(bucketname, itemname)\n",
    "body_timestamp = obj.get()['Body'].read()"
   ]
  },
  {
   "cell_type": "code",
   "execution_count": 67,
   "metadata": {},
   "outputs": [],
   "source": [
    "hospital_filename = 'hospital-data-'+body_timestamp.decode()+'.json'"
   ]
  },
  {
   "cell_type": "code",
   "execution_count": 46,
   "metadata": {
    "scrolled": true
   },
   "outputs": [],
   "source": [
    "#load from s3 raw zone\n",
    "s3_read = boto3.resource('s3')\n",
    "bucketname = 'capstone-team-uk-data-dump-bucket'\n",
    "itemname = 'raw-zone/'+hospital_filename\n",
    "obj = s3_read.Object(bucketname, itemname)\n",
    "body = obj.get()['Body'].read()"
   ]
  },
  {
   "cell_type": "code",
   "execution_count": 47,
   "metadata": {},
   "outputs": [],
   "source": [
    "data = json.loads(body)"
   ]
  },
  {
   "cell_type": "code",
   "execution_count": 50,
   "metadata": {},
   "outputs": [],
   "source": [
    "json_simple = data['features']"
   ]
  },
  {
   "cell_type": "code",
   "execution_count": 53,
   "metadata": {},
   "outputs": [],
   "source": [
    "new_list_of_dicts = [\n",
    "    x['attributes'] for x in json_simple\n",
    "]"
   ]
  },
  {
   "cell_type": "code",
   "execution_count": 54,
   "metadata": {},
   "outputs": [],
   "source": [
    "data_f = pd.DataFrame(new_list_of_dicts)"
   ]
  },
  {
   "cell_type": "code",
   "execution_count": 55,
   "metadata": {},
   "outputs": [],
   "source": [
    "data_f.index.name = 'id'"
   ]
  },
  {
   "cell_type": "code",
   "execution_count": 57,
   "metadata": {},
   "outputs": [],
   "source": [
    "output_csv = pd.DataFrame.to_csv(data_f)"
   ]
  },
  {
   "cell_type": "code",
   "execution_count": 59,
   "metadata": {},
   "outputs": [],
   "source": [
    "output_csv = data_f.to_csv('hospital-data.csv')"
   ]
  },
  {
   "cell_type": "code",
   "execution_count": 69,
   "metadata": {},
   "outputs": [],
   "source": [
    "timestamp = body_timestamp.decode()"
   ]
  },
  {
   "cell_type": "code",
   "execution_count": 72,
   "metadata": {},
   "outputs": [],
   "source": [
    "s3_upload = boto3.client('s3')\n",
    "with open('hospital-data.csv', \"rb\") as f:\n",
    "    s3_upload.upload_fileobj(f, \"capstone-team-uk-data-dump-bucket\", \"hospital-data/hospital-data\"+timestamp+\".csv\")"
   ]
  }
 ],
 "metadata": {
  "kernelspec": {
   "display_name": "Python 3",
   "language": "python",
   "name": "python3"
  },
  "language_info": {
   "codemirror_mode": {
    "name": "ipython",
    "version": 3
   },
   "file_extension": ".py",
   "mimetype": "text/x-python",
   "name": "python",
   "nbconvert_exporter": "python",
   "pygments_lexer": "ipython3",
   "version": "3.8.3"
  }
 },
 "nbformat": 4,
 "nbformat_minor": 2
}
